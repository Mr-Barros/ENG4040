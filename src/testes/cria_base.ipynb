{
 "cells": [
  {
   "cell_type": "code",
   "execution_count": null,
   "metadata": {},
   "outputs": [],
   "source": [
    "import requests as req\n",
    "import pandas as pd"
   ]
  },
  {
   "cell_type": "markdown",
   "metadata": {},
   "source": [
    "```\n",
    "import asyncio\n",
    "\n",
    "from chessdotcom.aio import get_player_profile, Client\n",
    "#or\n",
    "from chessdotcom import Client\n",
    "Client.aio = True\n",
    "\n",
    "usernames = [\"fabianocaruana\", \"GMHikaruOnTwitch\", \"MagnusCarlsen\", \"GarryKasparov\"]\n",
    "\n",
    "cors = [get_player_profile(name) for name in usernames]\n",
    "\n",
    "async def gather_cors(cors):\n",
    "   responses = await asyncio.gather(*cors)\n",
    "   return responses\n",
    "\n",
    "responses = asyncio.run(gather_cors(cors))\n",
    "```"
   ]
  },
  {
   "cell_type": "code",
   "execution_count": null,
   "metadata": {},
   "outputs": [],
   "source": [
    "headers = {\n",
    "    \"User-Agent\":\"duduardo45\"\n",
    "}\n",
    "\n",
    "users = {\n",
    "    'MrBarros': {\n",
    "        'url':'https://api.chess.com/pub/player/mrbarros'\n",
    "    },\n",
    "}\n",
    "\n",
    "ratings = {}\n",
    "\n",
    "# api_url = \"https://api.chess.com/pub/player/\""
   ]
  },
  {
   "cell_type": "code",
   "execution_count": null,
   "metadata": {},
   "outputs": [],
   "source": [
    "def get(s):\n",
    "    return req.get(s, headers = headers)"
   ]
  },
  {
   "cell_type": "markdown",
   "metadata": {},
   "source": [
    "# acessa os {jogador}/games/archives, pega todos os links"
   ]
  },
  {
   "cell_type": "code",
   "execution_count": null,
   "metadata": {},
   "outputs": [],
   "source": [
    "archives = \"/games/archives\"\n",
    "\n",
    "u = list(users.keys())[0]\n",
    "\n",
    "response = get(f'{users[u]['url']}{archives}')\n",
    "datas = response.json()\n",
    "datas = datas['archives']"
   ]
  },
  {
   "cell_type": "markdown",
   "metadata": {},
   "source": [
    "# acessa cada um dos links e baixa o pgn de resposta de todos, acumulando ele em um único pgn por usuario ao terminar muda o valor no dicionario de users para True"
   ]
  },
  {
   "cell_type": "code",
   "execution_count": null,
   "metadata": {},
   "outputs": [],
   "source": [
    "player_games = []\n",
    "\n",
    "for data in datas:\n",
    "    response = get(data)\n",
    "    monthly_games = response.json()['games']\n",
    "    player_games.extend(monthly_games)\n",
    "\n",
    "player_games = pd.DataFrame(player_games)\n",
    "player_games['player'] = u"
   ]
  },
  {
   "cell_type": "code",
   "execution_count": null,
   "metadata": {},
   "outputs": [],
   "source": [
    "print(player_games.iloc[-1]['white'].keys())"
   ]
  },
  {
   "cell_type": "code",
   "execution_count": null,
   "metadata": {},
   "outputs": [],
   "source": [
    "def extract_black_white(row):\n",
    "\n",
    "    # separating the variables to be used\n",
    "    white = row['white']\n",
    "    black = row['black']\n",
    "    wplayer = white['username']\n",
    "    bplayer = black['username']\n",
    "    wresult = white['result']\n",
    "    bresult = black['result']\n",
    "    wrating = white['rating']\n",
    "    brating = black['rating']\n",
    "    player_pieces = pd.NA\n",
    "\n",
    "    # extracting the information relative to the main player\n",
    "    if wplayer == row['player']:\n",
    "        if bplayer not in users.keys():\n",
    "            users[bplayer] = {'url' : black['@id']}\n",
    "        prating = wrating\n",
    "        presult = wresult\n",
    "        player_pieces = 'white'\n",
    "        opponent = bplayer\n",
    "        orating = brating\n",
    "    elif bplayer == row['player']:\n",
    "        if wplayer not in users.keys():\n",
    "            users[wplayer] = {'url' : white['@id']}\n",
    "        prating = brating\n",
    "        presult = bresult\n",
    "        player_pieces = 'black'\n",
    "        opponent = wplayer\n",
    "        orating = wrating\n",
    "    if wresult == 'win':\n",
    "        winner = 'white'\n",
    "        method = bresult\n",
    "    elif bresult == 'win':\n",
    "        winner = 'black'\n",
    "        method = wresult\n",
    "    elif wresult == bresult:\n",
    "        winner = 'draw'\n",
    "        method = presult\n",
    "    else:\n",
    "        winner = 'unknown'\n",
    "        method = wresult + ' + ' + bresult\n",
    "\n",
    "\n",
    "    # adding the information to the DataFrame\n",
    "    row['player_rating'] = prating\n",
    "    row['opponent'] = opponent\n",
    "    row['opponent_rating'] = orating\n",
    "    row['player_pieces'] = player_pieces\n",
    "    row['winner'] = winner\n",
    "    row['win_method'] = method\n",
    "\n",
    "    return row\n",
    "\n",
    "\n",
    "users[u]['gathered'] = True\n",
    "\n",
    "columns = [\n",
    "    'player',\n",
    "    'player_rating',\n",
    "    'opponent',\n",
    "    'opponent_rating',\n",
    "    'player_pieces',\n",
    "    'winner',\n",
    "    'win_method',\n",
    "]"
   ]
  },
  {
   "cell_type": "code",
   "execution_count": null,
   "metadata": {},
   "outputs": [],
   "source": [
    "player_games = player_games.apply(extract_black_white,axis=1)"
   ]
  },
  {
   "cell_type": "code",
   "execution_count": null,
   "metadata": {},
   "outputs": [],
   "source": [
    "player_games.drop(columns=['white','black'],inplace=True)"
   ]
  },
  {
   "cell_type": "code",
   "execution_count": null,
   "metadata": {},
   "outputs": [],
   "source": []
  },
  {
   "cell_type": "markdown",
   "metadata": {},
   "source": [
    "Falta:\n",
    "- adicionar o player_games a um .csv externo; \n",
    "- adicionar informações externas do jogador como:\n",
    "  - rating mais recente para cada modalidade;\n",
    "  - ultima atualização do perfil/jogo jogado mais recente;"
   ]
  },
  {
   "cell_type": "code",
   "execution_count": null,
   "metadata": {},
   "outputs": [],
   "source": [
    "import json\n",
    "\n",
    "print(json.dumps(users,indent=4))\n",
    "print(len(users))"
   ]
  },
  {
   "cell_type": "code",
   "execution_count": null,
   "metadata": {},
   "outputs": [],
   "source": []
  },
  {
   "cell_type": "markdown",
   "metadata": {},
   "source": [
    "# recupera todos os usernames unicos contra o quem o jogador jogou, salva eles no dicionario com valor False, para registrar que não foi pego os arquivos deste user"
   ]
  },
  {
   "cell_type": "markdown",
   "metadata": {},
   "source": [
    "# procura algum usuario no dicionario para o qual não foi feito o processo e repete para este"
   ]
  },
  {
   "cell_type": "markdown",
   "metadata": {},
   "source": [
    "# adiciona o usuario ao json users.json e salva a alteração"
   ]
  },
  {
   "cell_type": "markdown",
   "metadata": {},
   "source": [
    "### falta decidir o que fazer com o pgn de cada usuário; considerar adicionar o uuid de cada jogo para não salvar o dobro de dados"
   ]
  }
 ],
 "metadata": {
  "language_info": {
   "name": "python"
  }
 },
 "nbformat": 4,
 "nbformat_minor": 2
}
