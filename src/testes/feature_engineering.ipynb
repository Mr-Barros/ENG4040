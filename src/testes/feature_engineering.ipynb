{
 "cells": [
  {
   "cell_type": "code",
   "execution_count": 12,
   "metadata": {},
   "outputs": [],
   "source": [
    "import chess.pgn\n",
    "from stockfish import Stockfish\n"
   ]
  },
  {
   "cell_type": "code",
   "execution_count": 13,
   "metadata": {},
   "outputs": [],
   "source": [
    "file_path = '../../dados/experimentos/'\n",
    "file_name = 'Morphy.pgn'\n",
    "\n",
    "stockfish = Stockfish()\n",
    "stockfish.set_depth(20)\n",
    "stockfish.set_skill_level(20)\n",
    "\n",
    "\n",
    "with open(f'{file_path}{file_name}') as pgn_file:\n",
    "    game = chess.pgn.read_game(pgn_file)\n",
    "    \n",
    "\n"
   ]
  }
 ],
 "metadata": {
  "kernelspec": {
   "display_name": "venv",
   "language": "python",
   "name": "python3"
  },
  "language_info": {
   "codemirror_mode": {
    "name": "ipython",
    "version": 3
   },
   "file_extension": ".py",
   "mimetype": "text/x-python",
   "name": "python",
   "nbconvert_exporter": "python",
   "pygments_lexer": "ipython3",
   "version": "3.11.7"
  }
 },
 "nbformat": 4,
 "nbformat_minor": 2
}
