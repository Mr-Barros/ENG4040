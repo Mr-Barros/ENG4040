{
 "cells": [
  {
   "cell_type": "markdown",
   "metadata": {},
   "source": [
    "# **Initial Analysis**\n",
    "##### Chess Games Database - Available at [Kaggle](https://www.kaggle.com/datasets/arevel/chess-games/data)\n",
    "\n",
    "This database will be used throughout the project in order to analyse the data, find insights and create a model that evaluates a player's weaknesses. This model can then be used alongside treated information from the LiChess or chess.com APIs to assess the performace of our target audience.\n",
    "\n",
    "### **Content**\n",
    "\n",
    "This dataset contains 6.25 Million chess games played on lichess.org during July of 2016.\n",
    "Some of the games have Stockfish analysis evaluations like* [%eval 2.35] (235 centipawn advantage)* always from White's point of view. These are evaluations of the movement made by a player.\n",
    "\n",
    "- **Event**: Game type.\n",
    "\n",
    "- **White**: White's ID.\n",
    "- **Black**: Black's ID.\n",
    "- **Result**: Game Result (1-0 White wins) (0-1 Black wins)\n",
    "- **UTCDate**: UTC Date.\n",
    "- **UTCTime**: UTC Time.\n",
    "- **WhiteElo**: White's ELO.\n",
    "- **BlackElo**: Black's ELO.\n",
    "- **WhiteRatingDiff**: White's rating points difference after the game.\n",
    "- **BlackRatingDiff**: Blacks's rating points difference after the game.\n",
    "- **ECO**: Opening in ECO encoding.\n",
    "- **Opening**: Opening name.\n",
    "- **TimeControl**: Time of the game for each player in seconds. The number after the increment is the number of seconds before the player's clock starts ticking in each turn.\n",
    "- **Termination**: Reason of the game's end.\n",
    "- **AN**: Movements in Movetext format."
   ]
  },
  {
   "cell_type": "markdown",
   "metadata": {},
   "source": [
    "#### 1. Importing Packages"
   ]
  },
  {
   "cell_type": "code",
   "execution_count": 294,
   "metadata": {},
   "outputs": [],
   "source": [
    "import pandas as pd"
   ]
  },
  {
   "cell_type": "code",
   "execution_count": 295,
   "metadata": {},
   "outputs": [
    {
     "data": {
      "text/html": [
       "<div>\n",
       "<style scoped>\n",
       "    .dataframe tbody tr th:only-of-type {\n",
       "        vertical-align: middle;\n",
       "    }\n",
       "\n",
       "    .dataframe tbody tr th {\n",
       "        vertical-align: top;\n",
       "    }\n",
       "\n",
       "    .dataframe thead th {\n",
       "        text-align: right;\n",
       "    }\n",
       "</style>\n",
       "<table border=\"1\" class=\"dataframe\">\n",
       "  <thead>\n",
       "    <tr style=\"text-align: right;\">\n",
       "      <th></th>\n",
       "      <th>Event</th>\n",
       "      <th>White</th>\n",
       "      <th>Black</th>\n",
       "      <th>Result</th>\n",
       "      <th>UTCDate</th>\n",
       "      <th>UTCTime</th>\n",
       "      <th>WhiteElo</th>\n",
       "      <th>BlackElo</th>\n",
       "      <th>WhiteRatingDiff</th>\n",
       "      <th>BlackRatingDiff</th>\n",
       "      <th>ECO</th>\n",
       "      <th>Opening</th>\n",
       "      <th>TimeControl</th>\n",
       "      <th>Termination</th>\n",
       "      <th>AN</th>\n",
       "    </tr>\n",
       "  </thead>\n",
       "  <tbody>\n",
       "    <tr>\n",
       "      <th>0</th>\n",
       "      <td>Classical</td>\n",
       "      <td>eisaaaa</td>\n",
       "      <td>HAMID449</td>\n",
       "      <td>1-0</td>\n",
       "      <td>2016.06.30</td>\n",
       "      <td>22:00:01</td>\n",
       "      <td>1901</td>\n",
       "      <td>1896</td>\n",
       "      <td>11.0</td>\n",
       "      <td>-11.0</td>\n",
       "      <td>D10</td>\n",
       "      <td>Slav Defense</td>\n",
       "      <td>300+5</td>\n",
       "      <td>Time forfeit</td>\n",
       "      <td>1. d4 d5 2. c4 c6 3. e3 a6 4. Nf3 e5 5. cxd5 e...</td>\n",
       "    </tr>\n",
       "    <tr>\n",
       "      <th>1</th>\n",
       "      <td>Blitz</td>\n",
       "      <td>go4jas</td>\n",
       "      <td>Sergei1973</td>\n",
       "      <td>0-1</td>\n",
       "      <td>2016.06.30</td>\n",
       "      <td>22:00:01</td>\n",
       "      <td>1641</td>\n",
       "      <td>1627</td>\n",
       "      <td>-11.0</td>\n",
       "      <td>12.0</td>\n",
       "      <td>C20</td>\n",
       "      <td>King's Pawn Opening: 2.b3</td>\n",
       "      <td>300+0</td>\n",
       "      <td>Normal</td>\n",
       "      <td>1. e4 e5 2. b3 Nf6 3. Bb2 Nc6 4. Nf3 d6 5. d3 ...</td>\n",
       "    </tr>\n",
       "    <tr>\n",
       "      <th>2</th>\n",
       "      <td>Blitz tournament</td>\n",
       "      <td>Evangelistaizac</td>\n",
       "      <td>kafune</td>\n",
       "      <td>1-0</td>\n",
       "      <td>2016.06.30</td>\n",
       "      <td>22:00:02</td>\n",
       "      <td>1647</td>\n",
       "      <td>1688</td>\n",
       "      <td>13.0</td>\n",
       "      <td>-13.0</td>\n",
       "      <td>B01</td>\n",
       "      <td>Scandinavian Defense: Mieses-Kotroc Variation</td>\n",
       "      <td>180+0</td>\n",
       "      <td>Time forfeit</td>\n",
       "      <td>1. e4 d5 2. exd5 Qxd5 3. Nf3 Bg4 4. Be2 Nf6 5....</td>\n",
       "    </tr>\n",
       "    <tr>\n",
       "      <th>3</th>\n",
       "      <td>Correspondence</td>\n",
       "      <td>Jvayne</td>\n",
       "      <td>Wsjvayne</td>\n",
       "      <td>1-0</td>\n",
       "      <td>2016.06.30</td>\n",
       "      <td>22:00:02</td>\n",
       "      <td>1706</td>\n",
       "      <td>1317</td>\n",
       "      <td>27.0</td>\n",
       "      <td>-25.0</td>\n",
       "      <td>A00</td>\n",
       "      <td>Van't Kruijs Opening</td>\n",
       "      <td>-</td>\n",
       "      <td>Normal</td>\n",
       "      <td>1. e3 Nf6 2. Bc4 d6 3. e4 e6 4. Nf3 Nxe4 5. Nd...</td>\n",
       "    </tr>\n",
       "    <tr>\n",
       "      <th>4</th>\n",
       "      <td>Blitz tournament</td>\n",
       "      <td>kyoday</td>\n",
       "      <td>BrettDale</td>\n",
       "      <td>0-1</td>\n",
       "      <td>2016.06.30</td>\n",
       "      <td>22:00:02</td>\n",
       "      <td>1945</td>\n",
       "      <td>1900</td>\n",
       "      <td>-14.0</td>\n",
       "      <td>13.0</td>\n",
       "      <td>B90</td>\n",
       "      <td>Sicilian Defense: Najdorf, Lipnitsky Attack</td>\n",
       "      <td>180+0</td>\n",
       "      <td>Time forfeit</td>\n",
       "      <td>1. e4 c5 2. Nf3 d6 3. d4 cxd4 4. Nxd4 Nf6 5. N...</td>\n",
       "    </tr>\n",
       "  </tbody>\n",
       "</table>\n",
       "</div>"
      ],
      "text/plain": [
       "                Event            White       Black Result     UTCDate  \\\n",
       "0          Classical           eisaaaa    HAMID449    1-0  2016.06.30   \n",
       "1              Blitz            go4jas  Sergei1973    0-1  2016.06.30   \n",
       "2   Blitz tournament   Evangelistaizac      kafune    1-0  2016.06.30   \n",
       "3     Correspondence            Jvayne    Wsjvayne    1-0  2016.06.30   \n",
       "4   Blitz tournament            kyoday   BrettDale    0-1  2016.06.30   \n",
       "\n",
       "    UTCTime  WhiteElo  BlackElo  WhiteRatingDiff  BlackRatingDiff  ECO  \\\n",
       "0  22:00:01      1901      1896             11.0            -11.0  D10   \n",
       "1  22:00:01      1641      1627            -11.0             12.0  C20   \n",
       "2  22:00:02      1647      1688             13.0            -13.0  B01   \n",
       "3  22:00:02      1706      1317             27.0            -25.0  A00   \n",
       "4  22:00:02      1945      1900            -14.0             13.0  B90   \n",
       "\n",
       "                                         Opening TimeControl   Termination  \\\n",
       "0                                   Slav Defense       300+5  Time forfeit   \n",
       "1                      King's Pawn Opening: 2.b3       300+0        Normal   \n",
       "2  Scandinavian Defense: Mieses-Kotroc Variation       180+0  Time forfeit   \n",
       "3                           Van't Kruijs Opening           -        Normal   \n",
       "4    Sicilian Defense: Najdorf, Lipnitsky Attack       180+0  Time forfeit   \n",
       "\n",
       "                                                  AN  \n",
       "0  1. d4 d5 2. c4 c6 3. e3 a6 4. Nf3 e5 5. cxd5 e...  \n",
       "1  1. e4 e5 2. b3 Nf6 3. Bb2 Nc6 4. Nf3 d6 5. d3 ...  \n",
       "2  1. e4 d5 2. exd5 Qxd5 3. Nf3 Bg4 4. Be2 Nf6 5....  \n",
       "3  1. e3 Nf6 2. Bc4 d6 3. e4 e6 4. Nf3 Nxe4 5. Nd...  \n",
       "4  1. e4 c5 2. Nf3 d6 3. d4 cxd4 4. Nxd4 Nf6 5. N...  "
      ]
     },
     "execution_count": 295,
     "metadata": {},
     "output_type": "execute_result"
    }
   ],
   "source": [
    "path = '../../dados/experimentos/chess_games.csv'\n",
    "df = pd.read_csv(path, nrows=100000)\n",
    "df.head()"
   ]
  },
  {
   "cell_type": "code",
   "execution_count": 296,
   "metadata": {},
   "outputs": [
    {
     "data": {
      "text/html": [
       "<div>\n",
       "<style scoped>\n",
       "    .dataframe tbody tr th:only-of-type {\n",
       "        vertical-align: middle;\n",
       "    }\n",
       "\n",
       "    .dataframe tbody tr th {\n",
       "        vertical-align: top;\n",
       "    }\n",
       "\n",
       "    .dataframe thead th {\n",
       "        text-align: right;\n",
       "    }\n",
       "</style>\n",
       "<table border=\"1\" class=\"dataframe\">\n",
       "  <thead>\n",
       "    <tr style=\"text-align: right;\">\n",
       "      <th></th>\n",
       "      <th>WhiteElo</th>\n",
       "      <th>BlackElo</th>\n",
       "      <th>WhiteRatingDiff</th>\n",
       "      <th>BlackRatingDiff</th>\n",
       "    </tr>\n",
       "  </thead>\n",
       "  <tbody>\n",
       "    <tr>\n",
       "      <th>count</th>\n",
       "      <td>100000.000000</td>\n",
       "      <td>100000.000000</td>\n",
       "      <td>99954.000000</td>\n",
       "      <td>99954.000000</td>\n",
       "    </tr>\n",
       "    <tr>\n",
       "      <th>mean</th>\n",
       "      <td>1737.938750</td>\n",
       "      <td>1735.917760</td>\n",
       "      <td>0.623887</td>\n",
       "      <td>-0.189527</td>\n",
       "    </tr>\n",
       "    <tr>\n",
       "      <th>std</th>\n",
       "      <td>264.168375</td>\n",
       "      <td>265.711759</td>\n",
       "      <td>22.549863</td>\n",
       "      <td>22.435702</td>\n",
       "    </tr>\n",
       "    <tr>\n",
       "      <th>min</th>\n",
       "      <td>799.000000</td>\n",
       "      <td>738.000000</td>\n",
       "      <td>-537.000000</td>\n",
       "      <td>-570.000000</td>\n",
       "    </tr>\n",
       "    <tr>\n",
       "      <th>25%</th>\n",
       "      <td>1557.000000</td>\n",
       "      <td>1554.000000</td>\n",
       "      <td>-9.000000</td>\n",
       "      <td>-10.000000</td>\n",
       "    </tr>\n",
       "    <tr>\n",
       "      <th>50%</th>\n",
       "      <td>1738.000000</td>\n",
       "      <td>1735.000000</td>\n",
       "      <td>1.000000</td>\n",
       "      <td>-1.000000</td>\n",
       "    </tr>\n",
       "    <tr>\n",
       "      <th>75%</th>\n",
       "      <td>1914.250000</td>\n",
       "      <td>1914.000000</td>\n",
       "      <td>10.000000</td>\n",
       "      <td>9.000000</td>\n",
       "    </tr>\n",
       "    <tr>\n",
       "      <th>max</th>\n",
       "      <td>2737.000000</td>\n",
       "      <td>2731.000000</td>\n",
       "      <td>638.000000</td>\n",
       "      <td>644.000000</td>\n",
       "    </tr>\n",
       "  </tbody>\n",
       "</table>\n",
       "</div>"
      ],
      "text/plain": [
       "            WhiteElo       BlackElo  WhiteRatingDiff  BlackRatingDiff\n",
       "count  100000.000000  100000.000000     99954.000000     99954.000000\n",
       "mean     1737.938750    1735.917760         0.623887        -0.189527\n",
       "std       264.168375     265.711759        22.549863        22.435702\n",
       "min       799.000000     738.000000      -537.000000      -570.000000\n",
       "25%      1557.000000    1554.000000        -9.000000       -10.000000\n",
       "50%      1738.000000    1735.000000         1.000000        -1.000000\n",
       "75%      1914.250000    1914.000000        10.000000         9.000000\n",
       "max      2737.000000    2731.000000       638.000000       644.000000"
      ]
     },
     "execution_count": 296,
     "metadata": {},
     "output_type": "execute_result"
    }
   ],
   "source": [
    "df.describe()"
   ]
  },
  {
   "cell_type": "code",
   "execution_count": 297,
   "metadata": {},
   "outputs": [
    {
     "name": "stdout",
     "output_type": "stream",
     "text": [
      "Columns: Index(['Event', 'White', 'Black', 'Result', 'UTCDate', 'UTCTime', 'WhiteElo',\n",
      "       'BlackElo', 'WhiteRatingDiff', 'BlackRatingDiff', 'ECO', 'Opening',\n",
      "       'TimeControl', 'Termination', 'AN'],\n",
      "      dtype='object')\n"
     ]
    }
   ],
   "source": [
    "print(f\"Columns: {df.columns}\")"
   ]
  },
  {
   "cell_type": "code",
   "execution_count": 298,
   "metadata": {},
   "outputs": [
    {
     "data": {
      "text/plain": [
       "Event\n",
       " Blitz                    37532\n",
       " Classical                24832\n",
       " Bullet                   19766\n",
       " Bullet tournament         7379\n",
       " Blitz tournament          7342\n",
       " Classical tournament      2752\n",
       " Correspondence             396\n",
       "Blitz tournament              1\n",
       "Name: count, dtype: int64"
      ]
     },
     "execution_count": 298,
     "metadata": {},
     "output_type": "execute_result"
    }
   ],
   "source": [
    "df.Event.value_counts()"
   ]
  },
  {
   "cell_type": "code",
   "execution_count": 299,
   "metadata": {},
   "outputs": [
    {
     "data": {
      "text/plain": [
       "White\n",
       "playfasterordie     110\n",
       "BeautifulSquares     94\n",
       "ssww94               93\n",
       "companal2            91\n",
       "palang1359           89\n",
       "                   ... \n",
       "billy_bazooka         1\n",
       "StopDryFarting        1\n",
       "Waclock               1\n",
       "Humus_Land            1\n",
       "users7777             1\n",
       "Name: count, Length: 24307, dtype: int64"
      ]
     },
     "execution_count": 299,
     "metadata": {},
     "output_type": "execute_result"
    }
   ],
   "source": [
    "df.White.value_counts()"
   ]
  },
  {
   "cell_type": "code",
   "execution_count": 300,
   "metadata": {},
   "outputs": [
    {
     "data": {
      "text/plain": [
       "Black\n",
       "playfasterordie     110\n",
       "companal2            99\n",
       "BeautifulSquares     88\n",
       "ssww94               86\n",
       "Beserking101         82\n",
       "                   ... \n",
       "Uz_2020               1\n",
       "Nidert                1\n",
       "Diegouuu              1\n",
       "Jok777                1\n",
       "Drex78                1\n",
       "Name: count, Length: 24112, dtype: int64"
      ]
     },
     "execution_count": 300,
     "metadata": {},
     "output_type": "execute_result"
    }
   ],
   "source": [
    "df.Black.value_counts()"
   ]
  },
  {
   "cell_type": "code",
   "execution_count": 301,
   "metadata": {},
   "outputs": [
    {
     "data": {
      "text/plain": [
       "Result\n",
       "1-0        49713\n",
       "0-1        46535\n",
       "1/2-1/2     3752\n",
       "Name: count, dtype: int64"
      ]
     },
     "execution_count": 301,
     "metadata": {},
     "output_type": "execute_result"
    }
   ],
   "source": [
    "df.Result.value_counts()"
   ]
  },
  {
   "cell_type": "code",
   "execution_count": 302,
   "metadata": {},
   "outputs": [
    {
     "data": {
      "text/plain": [
       "Opening\n",
       "Van't Kruijs Opening                                             2064\n",
       "Scandinavian Defense: Mieses-Kotroc Variation                    1854\n",
       "Modern Defense                                                   1613\n",
       "Horwitz Defense                                                  1485\n",
       "Sicilian Defense                                                 1402\n",
       "                                                                 ... \n",
       "Queen's Indian Defense: Fianchetto Variation                        1\n",
       "Blackmar-Diemer Gambit Declined, Elbert Countergambit               1\n",
       "Russian Game: Moody Gambit                                          1\n",
       "Benko Gambit Declined, Quiet Line                                   1\n",
       "Bishop's Opening: Calabrese Countergambit, Jaenisch Variation       1\n",
       "Name: count, Length: 2087, dtype: int64"
      ]
     },
     "execution_count": 302,
     "metadata": {},
     "output_type": "execute_result"
    }
   ],
   "source": [
    "df.Opening.value_counts()"
   ]
  },
  {
   "cell_type": "code",
   "execution_count": 303,
   "metadata": {},
   "outputs": [
    {
     "data": {
      "text/plain": [
       "TimeControl\n",
       "300+0      16840\n",
       "180+0      15297\n",
       "60+0       15001\n",
       "600+0       9974\n",
       "30+0        3360\n",
       "           ...  \n",
       "2100+10        1\n",
       "960+10         1\n",
       "1500+4         1\n",
       "2100+8         1\n",
       "2700+2         1\n",
       "Name: count, Length: 366, dtype: int64"
      ]
     },
     "execution_count": 303,
     "metadata": {},
     "output_type": "execute_result"
    }
   ],
   "source": [
    "df.TimeControl.value_counts()"
   ]
  },
  {
   "cell_type": "code",
   "execution_count": 304,
   "metadata": {},
   "outputs": [
    {
     "data": {
      "text/plain": [
       "Termination\n",
       "Normal              67644\n",
       "Time forfeit        32117\n",
       "Abandoned             238\n",
       "Rules infraction        1\n",
       "Name: count, dtype: int64"
      ]
     },
     "execution_count": 304,
     "metadata": {},
     "output_type": "execute_result"
    }
   ],
   "source": [
    "df.Termination.value_counts()"
   ]
  }
 ],
 "metadata": {
  "kernelspec": {
   "display_name": "venv",
   "language": "python",
   "name": "python3"
  },
  "language_info": {
   "codemirror_mode": {
    "name": "ipython",
    "version": 3
   },
   "file_extension": ".py",
   "mimetype": "text/x-python",
   "name": "python",
   "nbconvert_exporter": "python",
   "pygments_lexer": "ipython3",
   "version": "3.11.7"
  }
 },
 "nbformat": 4,
 "nbformat_minor": 2
}
