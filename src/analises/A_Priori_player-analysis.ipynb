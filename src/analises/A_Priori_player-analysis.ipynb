{
 "cells": [
  {
   "cell_type": "code",
   "execution_count": null,
   "metadata": {},
   "outputs": [],
   "source": [
    "import pandas as pd\n",
    "import numpy as np\n",
    "import matplotlib.pyplot as plt\n",
    "import seaborn as sns\n",
    "from mlxtend.frequent_patterns import apriori, association_rules"
   ]
  },
  {
   "cell_type": "code",
   "execution_count": null,
   "metadata": {},
   "outputs": [],
   "source": [
    "username = 'Mr-Barros'\n",
    "df = pd.read_csv('../../dados/base/chess_games_chesscom.csv')\n",
    "df = df[df['player'] == username]\n",
    "\n",
    "print(f'{username} games: {df.shape}')\n",
    "print(df.head())"
   ]
  },
  {
   "cell_type": "markdown",
   "metadata": {},
   "source": [
    "## Falta discretizar winrate_with_opening."
   ]
  },
  {
   "cell_type": "code",
   "execution_count": null,
   "metadata": {},
   "outputs": [],
   "source": [
    "for column in ['time_control', 'time_class', 'rated', 'player_pieces', 'winner', 'win_method', 'opening_eval', 'midgame_eval']:\n",
    "    print(f'Unique values of {column}: {df[column].unique()}')\n",
    "\n",
    "df.isna().sum()"
   ]
  },
  {
   "cell_type": "code",
   "execution_count": null,
   "metadata": {},
   "outputs": [],
   "source": [
    "df = df.drop([\n",
    "            df.columns[0], \n",
    "            'url', \n",
    "            'accuracies', \n",
    "            'tcn', \n",
    "            'uuid', \n",
    "            'initial_setup', \n",
    "            'fen', \n",
    "            'start_time', \n",
    "            'move_list',\n",
    "            'move_evals',\n",
    "            'material_count',\n",
    "            ], axis=1)\n",
    "\n",
    "# We only want to analyse normal chess games\n",
    "df = df[df['rules'] == 'chess']\n",
    "\n",
    "print(f'Unique value of win_method {df[\"win_method\"].unique()}')\n",
    "\n",
    "print(df.head())"
   ]
  },
  {
   "cell_type": "code",
   "execution_count": null,
   "metadata": {},
   "outputs": [],
   "source": [
    "df.isna().sum()"
   ]
  },
  {
   "cell_type": "code",
   "execution_count": null,
   "metadata": {},
   "outputs": [],
   "source": [
    "# Add the 'player_won' column\n",
    "df['player_won'] = df['player_pieces'] == df['winner']\n",
    "\n",
    "# Display the unique values for the new 'player_won' column\n",
    "print(f'Unique values of player_won: {df[\"player_won\"].unique()}')\n"
   ]
  },
  {
   "cell_type": "code",
   "execution_count": null,
   "metadata": {},
   "outputs": [],
   "source": [
    "# makes it so the value is in reference to the player advantage\n",
    "df.loc[df['player_pieces'] == 'black', 'opening_eval'] = (-1)*df.loc[df['player_pieces'] == 'black', 'opening_eval']\n",
    "df.loc[df['player_pieces'] == 'black', 'midgame_eval'] = (-1)*df.loc[df['player_pieces'] == 'black', 'midgame_eval']"
   ]
  },
  {
   "cell_type": "code",
   "execution_count": null,
   "metadata": {},
   "outputs": [],
   "source": [
    "print(type(df))"
   ]
  },
  {
   "cell_type": "code",
   "execution_count": null,
   "metadata": {},
   "outputs": [],
   "source": [
    "print(df.columns.tolist())"
   ]
  },
  {
   "cell_type": "code",
   "execution_count": null,
   "metadata": {},
   "outputs": [],
   "source": [
    "df.dtypes"
   ]
  },
  {
   "cell_type": "code",
   "execution_count": null,
   "metadata": {},
   "outputs": [],
   "source": [
    "numerical_df = df[[\n",
    "        'player_rating',\n",
    "        'opponent_rating',\n",
    "        'opening_eval',\n",
    "        'midgame_eval',\n",
    "        'player_won'\n",
    "        ]]\n",
    "\n",
    "numerical_df.corr()"
   ]
  },
  {
   "cell_type": "code",
   "execution_count": null,
   "metadata": {},
   "outputs": [],
   "source": [
    "\n",
    "# Create a DataFrame with categorical columns of interest\n",
    "data = df[['time_class', 'eco', 'player_pieces', 'win_method', 'player_won', 'opening_eval', 'midgame_eval']]\n",
    "\n",
    "# Convert categorical variables to a one-hot encoded format\n",
    "data_encoded = pd.get_dummies(data, columns=['time_class', 'eco', 'player_pieces', 'win_method', 'player_won', 'opening_eval', 'midgame_eval'])\n",
    "\n",
    "# Perform Apriori to find frequent itemsets\n",
    "frequent_itemsets = apriori(data_encoded, min_support=0.06, use_colnames=True)\n",
    "\n",
    "frequent_itemsets.head()"
   ]
  },
  {
   "cell_type": "code",
   "execution_count": null,
   "metadata": {},
   "outputs": [],
   "source": [
    "# Generate association rules with a minimum confidence threshold\n",
    "rules = association_rules(frequent_itemsets, metric=\"confidence\", min_threshold=0.5)\n",
    "\n",
    "rules_sorted = rules.sort_values(by=\"confidence\", ascending=False)\n",
    "\n",
    "rules_sorted.head()"
   ]
  },
  {
   "cell_type": "markdown",
   "metadata": {},
   "source": [
    "A regra com a maior confiança, \"Se time_class_blitz e win_method_checkmated são utilizados, então player_won_True\", apresenta uma confiança de 71%. Isso significa que, aproximadamente 71% das vezes em que o jogador utiliza time_class_blitz e vence por checkmate, ele efetivamente ganha a partida. O lift de 1.40 indica que essa combinação de eventos ocorre em uma probabilidade 40% maior do que se esses fatores ocorressem isoladamente."
   ]
  },
  {
   "cell_type": "code",
   "execution_count": null,
   "metadata": {},
   "outputs": [],
   "source": [
    "#regras com confiança superiore a 55%\n",
    "\n",
    "rules_55 = rules[rules['confidence'] > 0.55]\n",
    "rules_55 = rules_55[rules_55['support'] > 0.12]\n",
    "\n",
    "# rules_55 = rules_55[rules_55['consequents'].apply(lambda x: 'player_won_True' in x)]\n",
    "\n",
    "rules_55_sorted = rules_55.sort_values(by='confidence', ascending=False)\n",
    "\n",
    "rules_55_sorted"
   ]
  },
  {
   "cell_type": "code",
   "execution_count": null,
   "metadata": {},
   "outputs": [],
   "source": [
    "# Scatter plot using support (x), confidence (y), and lift (color scale)\n",
    "\n",
    "plt.figure(figsize=(10,6))\n",
    "scatter = plt.scatter(rules_55['support'], rules_55['confidence'], c=rules_55['lift'], cmap='viridis', s=100, edgecolor='k', alpha=0.7)\n",
    "plt.title('Grafico regras de associação com confiança acima de 55%', fontsize=15)\n",
    "plt.xlabel('Suporte', fontsize=12)\n",
    "plt.ylabel('Confiança', fontsize=12)\n",
    "colorbar = plt.colorbar(scatter)\n",
    "colorbar.set_label('Elevação', fontsize=12)\n",
    "plt.show()"
   ]
  },
  {
   "cell_type": "code",
   "execution_count": null,
   "metadata": {},
   "outputs": [],
   "source": [
    "#rules that have player_won_True as a consequence\n",
    "\n",
    "rules_player_won_True = association_rules(frequent_itemsets, metric=\"confidence\", min_threshold=0.50)\n",
    "\n",
    "player_won_True_rules = rules_player_won_True[rules_player_won_True['consequents'].apply(lambda x: 'player_won_True' in x)]\n",
    "\n",
    "player_won_True_rules_sorted = player_won_True_rules.sort_values(by='confidence', ascending=False)\n",
    "\n",
    "player_won_True_rules_sorted.head()"
   ]
  },
  {
   "cell_type": "code",
   "execution_count": null,
   "metadata": {},
   "outputs": [],
   "source": [
    "plt.figure(figsize=(10, 6))\n",
    "scatter = plt.scatter( player_won_True_rules_sorted['support'], player_won_True_rules_sorted['confidence'], c=player_won_True_rules_sorted['lift'], cmap='viridis', s=100, edgecolor='k', alpha=0.7)\n",
    "plt.title('Regras de associação jogador ganha', fontsize=15)\n",
    "plt.xlabel('Suporte', fontsize=12)\n",
    "plt.ylabel('Confiança', fontsize=12)\n",
    "colorbar = plt.colorbar(scatter)\n",
    "colorbar.set_label('Elevação', fontsize=12)\n",
    "plt.show()"
   ]
  },
  {
   "cell_type": "code",
   "execution_count": null,
   "metadata": {},
   "outputs": [],
   "source": [
    "player_won_True_rules_sorted.plot(kind='bar', x='antecedents', y='confidence', figsize=(10,6), color='skyblue')\n",
    "plt.title(\"Confidence of player_won_True\")\n",
    "plt.xlabel(\"Antecedents\")\n",
    "plt.ylabel(\"Confidence\")\n",
    "plt.xticks(rotation=90)\n",
    "plt.show()"
   ]
  },
  {
   "cell_type": "code",
   "execution_count": null,
   "metadata": {},
   "outputs": [],
   "source": [
    "#rules that have player_won_False as a consequence\n",
    "\n",
    "rules_player_won_False = association_rules(frequent_itemsets, metric=\"confidence\", min_threshold=0.50)\n",
    "\n",
    "player_won_False_rules = rules_player_won_False[rules_player_won_False['consequents'].apply(lambda x: 'player_won_False' in x)]\n",
    "\n",
    "player_won_False_rules_sorted = player_won_False_rules.sort_values(by='confidence', ascending=False)\n",
    "\n",
    "player_won_False_rules_sorted.head()"
   ]
  },
  {
   "cell_type": "code",
   "execution_count": null,
   "metadata": {},
   "outputs": [],
   "source": [
    "plt.figure(figsize=(10, 6))\n",
    "scatter = plt.scatter( player_won_False_rules_sorted['support'], player_won_False_rules_sorted['confidence'], c=player_won_False_rules_sorted['lift'], cmap='viridis', s=100, edgecolor='k', alpha=0.7)\n",
    "plt.title('Regras de associação jogador perde', fontsize=15)\n",
    "plt.xlabel('Suporte', fontsize=12)\n",
    "plt.ylabel('Confiança', fontsize=12)\n",
    "colorbar = plt.colorbar(scatter)\n",
    "colorbar.set_label('Elevação', fontsize=12)\n",
    "plt.show()"
   ]
  },
  {
   "cell_type": "code",
   "execution_count": null,
   "metadata": {},
   "outputs": [],
   "source": [
    "player_won_False_rules_sorted.plot(kind='bar', x='antecedents', y='confidence', figsize=(10,6), color='skyblue')\n",
    "plt.title(\"Confidence of player_won_False\")\n",
    "plt.xlabel(\"Antecedents\")\n",
    "plt.ylabel(\"Confidence\")\n",
    "plt.xticks(rotation=90)\n",
    "plt.show()"
   ]
  }
 ],
 "metadata": {
  "language_info": {
   "name": "python"
  }
 },
 "nbformat": 4,
 "nbformat_minor": 2
}
