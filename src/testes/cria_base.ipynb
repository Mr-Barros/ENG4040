{
 "cells": [
  {
   "cell_type": "code",
   "execution_count": 1,
   "metadata": {},
   "outputs": [],
   "source": [
    "import requests as req\n",
    "import pandas as pd"
   ]
  },
  {
   "cell_type": "markdown",
   "metadata": {},
   "source": [
    "```\n",
    "import asyncio\n",
    "\n",
    "from chessdotcom.aio import get_player_profile, Client\n",
    "#or\n",
    "from chessdotcom import Client\n",
    "Client.aio = True\n",
    "\n",
    "usernames = [\"fabianocaruana\", \"GMHikaruOnTwitch\", \"MagnusCarlsen\", \"GarryKasparov\"]\n",
    "\n",
    "cors = [get_player_profile(name) for name in usernames]\n",
    "\n",
    "async def gather_cors(cors):\n",
    "   responses = await asyncio.gather(*cors)\n",
    "   return responses\n",
    "\n",
    "responses = asyncio.run(gather_cors(cors))\n",
    "```"
   ]
  },
  {
   "cell_type": "code",
   "execution_count": 2,
   "metadata": {},
   "outputs": [],
   "source": [
    "headers = {\n",
    "    \"User-Agent\":\"duduardo45\"\n",
    "}\n",
    "\n",
    "users = {\n",
    "    'MrBarros': {\n",
    "        'url':'https://api.chess.com/pub/player/mrbarros'\n",
    "    },\n",
    "}\n",
    "\n",
    "ratings = {}\n",
    "\n",
    "# api_url = \"https://api.chess.com/pub/player/\""
   ]
  },
  {
   "cell_type": "code",
   "execution_count": 3,
   "metadata": {},
   "outputs": [],
   "source": [
    "def get(s):\n",
    "    return req.get(s, headers = headers)"
   ]
  },
  {
   "cell_type": "markdown",
   "metadata": {},
   "source": [
    "# acessa os {jogador}/games/archives, pega todos os links"
   ]
  },
  {
   "cell_type": "code",
   "execution_count": 4,
   "metadata": {},
   "outputs": [],
   "source": [
    "archives = \"/games/archives\"\n",
    "\n",
    "u = list(users.keys())[0]\n",
    "\n",
    "response = get(f'{users[u]['url']}{archives}')\n",
    "datas = response.json()\n",
    "datas = datas['archives']"
   ]
  },
  {
   "cell_type": "markdown",
   "metadata": {},
   "source": [
    "# acessa cada um dos links e baixa o pgn de resposta de todos, acumulando ele em um único pgn por usuario ao terminar muda o valor no dicionario de users para True"
   ]
  },
  {
   "cell_type": "code",
   "execution_count": 5,
   "metadata": {},
   "outputs": [],
   "source": [
    "player_games = []\n",
    "\n",
    "for data in datas:\n",
    "    response = get(data)\n",
    "    monthly_games = response.json()['games']\n",
    "    player_games.extend(monthly_games)\n",
    "\n",
    "player_games = pd.DataFrame(player_games)\n",
    "player_games['player'] = u"
   ]
  },
  {
   "cell_type": "code",
   "execution_count": 6,
   "metadata": {},
   "outputs": [
    {
     "name": "stdout",
     "output_type": "stream",
     "text": [
      "dict_keys(['rating', 'result', '@id', 'username', 'uuid'])\n"
     ]
    }
   ],
   "source": [
    "print(player_games.iloc[-1]['white'].keys())"
   ]
  },
  {
   "cell_type": "code",
   "execution_count": null,
   "metadata": {},
   "outputs": [],
   "source": [
    "def extract_black_white(row):\n",
    "    white = row['white']\n",
    "    black = row['black']\n",
    "    wplayer = white['username']\n",
    "    bplayer = black['username']\n",
    "    wresult = white['result']\n",
    "    bresult = black['result']\n",
    "    wrating = white['rating']\n",
    "    brating = black['rating']\n",
    "    if wplayer == row['player']:\n",
    "        users[bplayer]['url'] = black['@id']\n",
    "        prating = wrating\n",
    "        opponent = bplayer\n",
    "        orating = brating\n",
    "    elif bplayer == row['player']:\n",
    "        users[wplayer]['url'] = white['@id']\n",
    "        prating = brating\n",
    "        opponent = wplayer\n",
    "        orating = wrating\n",
    "    if wresult == 'win':\n",
    "        winner = wplayer\n",
    "        method = bresult\n",
    "    elif bresult == 'win':\n",
    "        winner = bplayer\n",
    "        method = wresult\n",
    "    \n",
    "\n",
    "    \n",
    "    # pensar em extrair @id dos jogadores para ter já o link para perfis diferentes\n",
    "\n",
    "    \n",
    "    \n"
   ]
  },
  {
   "cell_type": "code",
   "execution_count": 7,
   "metadata": {},
   "outputs": [],
   "source": [
    "player_games['white player'] = player_games['white'].apply(lambda row: row['username'] if ('username' in row.keys()) else pd.NA)\n",
    "player_games['black player'] = player_games['black'].apply(lambda row: row['username'] if ('username' in row.keys()) else pd.NA)\n",
    "\n",
    "player_games['opponent'] = player_games.loc[player_games['white player'].str.lower() != u, 'white player']\n",
    "player_games.loc[player_games['opponent'].isna(),'opponent'] = player_games.loc[player_games['black player'].str.lower() != u, 'black player']"
   ]
  },
  {
   "cell_type": "markdown",
   "metadata": {},
   "source": [
    "# recupera todos os usernames unicos contra o quem o jogador jogou, salva eles no dicionario com valor False, para registrar que não foi pego os arquivos deste user"
   ]
  },
  {
   "cell_type": "markdown",
   "metadata": {},
   "source": [
    "# procura algum usuario no dicionario para o qual não foi feito o processo e repete para este"
   ]
  },
  {
   "cell_type": "markdown",
   "metadata": {},
   "source": [
    "# adiciona o usuario ao json users.json e salva a alteração"
   ]
  },
  {
   "cell_type": "markdown",
   "metadata": {},
   "source": [
    "### falta decidir o que fazer com o pgn de cada usuário; considerar adicionar o uuid de cada jogo para não salvar o dobro de dados"
   ]
  }
 ],
 "metadata": {
  "kernelspec": {
   "display_name": "venv",
   "language": "python",
   "name": "python3"
  },
  "language_info": {
   "codemirror_mode": {
    "name": "ipython",
    "version": 3
   },
   "file_extension": ".py",
   "mimetype": "text/x-python",
   "name": "python",
   "nbconvert_exporter": "python",
   "pygments_lexer": "ipython3",
   "version": "3.12.4"
  }
 },
 "nbformat": 4,
 "nbformat_minor": 2
}
