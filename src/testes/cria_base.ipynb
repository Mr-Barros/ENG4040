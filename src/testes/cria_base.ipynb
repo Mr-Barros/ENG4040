{
 "cells": [
  {
   "cell_type": "code",
   "execution_count": null,
   "metadata": {},
   "outputs": [],
   "source": [
    "import requests as req\n",
    "import pandas as pd"
   ]
  },
  {
   "cell_type": "code",
   "execution_count": null,
   "metadata": {},
   "outputs": [],
   "source": [
    "test = False"
   ]
  },
  {
   "cell_type": "code",
   "execution_count": null,
   "metadata": {},
   "outputs": [],
   "source": [
    "try:\n",
    "    users = pd.read_csv('../../dados/experimentos/users_gathered.csv', encoding='utf-8')\n",
    "    df = pd.read_csv('../../dados/experimentos/chess_games_chesscom.csv', encoding='utf-8')\n",
    "except FileNotFoundError:\n",
    "    test = True\n",
    "\n",
    "print(test)"
   ]
  },
  {
   "cell_type": "markdown",
   "metadata": {},
   "source": [
    "### Seção das funções auxiliares"
   ]
  },
  {
   "cell_type": "code",
   "execution_count": null,
   "metadata": {},
   "outputs": [],
   "source": [
    "def get(s):\n",
    "    headers = {\n",
    "    \"User-Agent\":\"duduardo45\"\n",
    "    }\n",
    "    return req.get(s, headers = headers)"
   ]
  },
  {
   "cell_type": "code",
   "execution_count": null,
   "metadata": {},
   "outputs": [],
   "source": [
    "def extract_black_white(row):\n",
    "\n",
    "    # separating the variables to be used\n",
    "    white = row['white']\n",
    "    black = row['black']\n",
    "    time_class = row['time_class']\n",
    "    wplayer = white['username']\n",
    "    bplayer = black['username']\n",
    "    wresult = white['result']\n",
    "    bresult = black['result']\n",
    "    wrating = white['rating']\n",
    "    brating = black['rating']\n",
    "    player_pieces = pd.NA\n",
    "\n",
    "    # extracting the information relative to the main player\n",
    "    if wplayer == row['player']:\n",
    "        if bplayer not in users['username'].unique(): # adds the opponent to users\n",
    "            users.loc[len(users)] = {\n",
    "                                    'username':bplayer,\n",
    "                                    'url' : black['@id'],\n",
    "                                    'gathered': False,\n",
    "                                    f'{time_class}_rating': brating,\n",
    "                                    }\n",
    "        prating = wrating\n",
    "        presult = wresult\n",
    "        player_pieces = 'white'\n",
    "        opponent = bplayer\n",
    "        orating = brating\n",
    "    elif bplayer == row['player']:\n",
    "        if wplayer not in users['username'].unique():\n",
    "            users.loc[len(users)] = {\n",
    "                                    'username':wplayer,\n",
    "                                    'url' : white['@id'],\n",
    "                                    'gathered': False,\n",
    "                                    f'{time_class}_rating': brating,\n",
    "                                    }\n",
    "        prating = brating\n",
    "        presult = bresult\n",
    "        player_pieces = 'black'\n",
    "        opponent = wplayer\n",
    "        orating = wrating\n",
    "    if wresult == 'win':\n",
    "        winner = 'white'\n",
    "        method = bresult\n",
    "    elif bresult == 'win':\n",
    "        winner = 'black'\n",
    "        method = wresult\n",
    "    elif wresult == bresult:\n",
    "        winner = 'draw'\n",
    "        method = presult\n",
    "    else:\n",
    "        winner = 'unknown'\n",
    "        method = wresult + ' + ' + bresult\n",
    "\n",
    "\n",
    "    # adding the information to the DataFrame\n",
    "    row['player_rating'] = prating\n",
    "    row['opponent'] = opponent\n",
    "    row['opponent_rating'] = orating\n",
    "    row['player_pieces'] = player_pieces\n",
    "    row['winner'] = winner\n",
    "    row['win_method'] = method\n",
    "\n",
    "    return row"
   ]
  },
  {
   "cell_type": "code",
   "execution_count": null,
   "metadata": {},
   "outputs": [],
   "source": [
    "def adds_user_info(player_games:pd.DataFrame, u):\n",
    "\n",
    "    most_played_class = player_games['time_class'].mode()[0]\n",
    "    latest_time = player_games.loc[player_games['end_time'] == player_games['end_time'].max(), 'end_time'].iloc[0]\n",
    "    users.loc[users['username'] == u, 'most_played_class'] = most_played_class\n",
    "    users.loc[users['username'] == u, 'latest_game'] = latest_time\n",
    "\n",
    "    for time_class in player_games['time_class'].unique():\n",
    "        games = player_games[player_games['time_class'] == time_class]\n",
    "        amount_played = games.shape[0]\n",
    "        latest_game = games.loc[games['end_time'] == games['end_time'].max()].iloc[0]\n",
    "        latest_time = latest_game['end_time']\n",
    "        p_rating = latest_game['player_rating']\n",
    "        users.loc[users['username'] == u, f'{time_class}_rating'] = p_rating\n",
    "        users.loc[users['username'] == u, f'{time_class}_played'] = amount_played\n",
    "        users.loc[users['username'] == u, f'{time_class}_recent'] = latest_time"
   ]
  },
  {
   "cell_type": "code",
   "execution_count": null,
   "metadata": {},
   "outputs": [],
   "source": [
    "def gather_player(u='Mr-Barros'):\n",
    "\n",
    "    # requests the api\n",
    "    archives = \"/games/archives\"\n",
    "\n",
    "    user = users.loc[users['username'] == u]\n",
    "\n",
    "    if user.shape[0] == 0:\n",
    "        print(f'Usuário \"{u}\" fora da base.\\nFavor adicionar url deste à base.\\n')\n",
    "        return -1\n",
    "\n",
    "    user_url = user['url'].iloc[0]\n",
    "\n",
    "    response = get(f'{user_url}{archives}')\n",
    "    datas = response.json()\n",
    "    datas = datas['archives']\n",
    "\n",
    "\n",
    "    # gets every game played\n",
    "    player_games = []\n",
    "\n",
    "    for data in datas:\n",
    "        response = get(data)\n",
    "        monthly_games = response.json()['games']\n",
    "        player_games.extend(monthly_games)\n",
    "\n",
    "    player_games = pd.DataFrame(player_games)\n",
    "    player_games['player'] = u\n",
    "\n",
    "\n",
    "    # processes the response\n",
    "    player_games = player_games.apply(extract_black_white,axis=1)\n",
    "    player_games.drop(columns=['white','black'],inplace=True)\n",
    "    player_games['end_time'] = pd.to_datetime(player_games['end_time'], unit='s')\n",
    "\n",
    "\n",
    "    # annotates the user info\n",
    "    users.loc[users['username'] == u, 'gathered'] = True\n",
    "    adds_user_info(player_games, u)\n",
    "\n",
    "    return player_games"
   ]
  },
  {
   "cell_type": "markdown",
   "metadata": {},
   "source": [
    "## Seção de testes"
   ]
  },
  {
   "cell_type": "markdown",
   "metadata": {},
   "source": [
    "```\n",
    "import asyncio\n",
    "\n",
    "from chessdotcom.aio import get_player_profile, Client\n",
    "#or\n",
    "from chessdotcom import Client\n",
    "Client.aio = True\n",
    "\n",
    "usernames = [\"fabianocaruana\", \"GMHikaruOnTwitch\", \"MagnusCarlsen\", \"GarryKasparov\"]\n",
    "\n",
    "cors = [get_player_profile(name) for name in usernames]\n",
    "\n",
    "async def gather_cors(cors):\n",
    "   responses = await asyncio.gather(*cors)\n",
    "   return responses\n",
    "\n",
    "responses = asyncio.run(gather_cors(cors))\n",
    "\n",
    "# api_url = \"https://api.chess.com/pub/player/\"\n",
    "```"
   ]
  },
  {
   "cell_type": "code",
   "execution_count": null,
   "metadata": {},
   "outputs": [],
   "source": [
    "if test:\n",
    "    users = [\n",
    "        {\n",
    "        'username':'Mr-Barros',\n",
    "        'url':'https://api.chess.com/pub/player/mr-barros',\n",
    "        'gathered': False,\n",
    "        }\n",
    "    ]\n",
    "\n",
    "    users = pd.DataFrame(users)"
   ]
  },
  {
   "cell_type": "markdown",
   "metadata": {},
   "source": [
    "### acessa os {jogador}/games/archives, pega todos os links"
   ]
  },
  {
   "cell_type": "code",
   "execution_count": null,
   "metadata": {},
   "outputs": [],
   "source": [
    "if test:\n",
    "    archives = \"/games/archives\"\n",
    "    u = users['username'][0]\n",
    "    user_url = users.loc[users['username'] == u, 'url'][0]\n",
    "\n",
    "    response = get(f'{user_url}{archives}')\n",
    "    datas = response.json()\n",
    "    datas = datas['archives']"
   ]
  },
  {
   "cell_type": "markdown",
   "metadata": {},
   "source": [
    "### acessa cada um dos links e baixa o pgn de resposta de todos, acumulando ele em um único pgn por usuario ao terminar muda o valor no dicionario de users para True"
   ]
  },
  {
   "cell_type": "code",
   "execution_count": null,
   "metadata": {},
   "outputs": [],
   "source": [
    "if test:\n",
    "    player_games = []\n",
    "\n",
    "    for data in datas:\n",
    "        response = get(data)\n",
    "        monthly_games = response.json()['games']\n",
    "        player_games.extend(monthly_games)\n",
    "\n",
    "    player_games = pd.DataFrame(player_games)\n",
    "    player_games['player'] = u"
   ]
  },
  {
   "cell_type": "code",
   "execution_count": null,
   "metadata": {},
   "outputs": [],
   "source": [
    "if test:\n",
    "    player_games = player_games.apply(extract_black_white,axis=1)\n",
    "    player_games.drop(columns=['white','black'],inplace=True)\n",
    "    player_games['end_time'] = pd.to_datetime(player_games['end_time'], unit='s')"
   ]
  },
  {
   "cell_type": "markdown",
   "metadata": {},
   "source": [
    "### Adiciona informações do usuário trazido:"
   ]
  },
  {
   "cell_type": "code",
   "execution_count": null,
   "metadata": {},
   "outputs": [],
   "source": [
    "if test:\n",
    "    users.loc[users['username'] == u, 'gathered'] = True\n",
    "\n",
    "    most_played_class = player_games['time_class'].mode()[0]\n",
    "    latest_time = player_games.loc[player_games['end_time'] == player_games['end_time'].max(), 'end_time'].iloc[0]\n",
    "    users.loc[users['username'] == u, 'most_played_class'] = most_played_class\n",
    "    users.loc[users['username'] == u, 'latest_game'] = latest_time\n",
    "\n",
    "    for time_class in player_games['time_class'].unique():\n",
    "        games = player_games[player_games['time_class'] == time_class]\n",
    "        amount_played = games.shape[0]\n",
    "        latest_game = games.loc[games['end_time'] == games['end_time'].max()].iloc[0]\n",
    "        latest_time = latest_game['end_time']\n",
    "        p_rating = latest_game['player_rating']\n",
    "        users.loc[users['username'] == u, f'{time_class}_rating'] = p_rating\n",
    "        users.loc[users['username'] == u, f'{time_class}_played'] = amount_played\n",
    "        users.loc[users['username'] == u, f'{time_class}_recent'] = latest_time\n",
    "\n"
   ]
  },
  {
   "cell_type": "code",
   "execution_count": null,
   "metadata": {},
   "outputs": [],
   "source": [
    "if test:\n",
    "    player_games.to_csv('../../dados/experimentos/chess_games_chesscom.csv', encoding='utf-8', index=False)\n",
    "    users.to_csv('../../dados/experimentos/users_gathered.csv', encoding='utf-8', index=False)"
   ]
  },
  {
   "cell_type": "markdown",
   "metadata": {},
   "source": [
    "# Seção para uso\n",
    "\n",
    "**TROCAR A VARIÁVEL ```test``` PARA ```False``` APÓS RODAR TUDO PELA PRIMEIRA VEZ**"
   ]
  },
  {
   "cell_type": "markdown",
   "metadata": {},
   "source": [
    "<span style=\"color:red;\">**AVISO:**</span> Este código pode demorar muito para rodar para cada jogador, se algum jogador tiver muitos jogos, pois a API do chess.com é realmente lerda para responder. A ideia é no futuro paralelizar as requests para diminuir o tempo necessário para conseguir todos os jogos de um jogador."
   ]
  },
  {
   "cell_type": "code",
   "execution_count": null,
   "metadata": {},
   "outputs": [],
   "source": [
    "# number of players to newly gather games from\n",
    "N = 3\n",
    "\n",
    "users_yet_df = users[~users['gathered']]\n",
    "users_yet = users_yet_df['username'].sample(n=N)\n",
    "\n",
    "for user in users_yet:\n",
    "    player_g = gather_player(user)\n",
    "    if type(player_g) == int:\n",
    "        continue\n",
    "    df = pd.concat([df, player_g], axis=0)"
   ]
  },
  {
   "cell_type": "code",
   "execution_count": null,
   "metadata": {},
   "outputs": [],
   "source": [
    "df.to_csv('../../dados/experimentos/chess_games_chesscom.csv', encoding='utf-8', index=False)\n",
    "users.to_csv('../../dados/experimentos/users_gathered.csv', encoding='utf-8', index=False)"
   ]
  }
 ],
 "metadata": {
  "kernelspec": {
   "display_name": "venv",
   "language": "python",
   "name": "python3"
  },
  "language_info": {
   "name": "python",
   "version": "3.12.4"
  }
 },
 "nbformat": 4,
 "nbformat_minor": 2
}
