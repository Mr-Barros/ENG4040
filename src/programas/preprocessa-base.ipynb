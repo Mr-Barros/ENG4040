{
 "cells": [
  {
   "cell_type": "code",
   "execution_count": null,
   "metadata": {},
   "outputs": [],
   "source": [
    "import pandas as pd\n",
    "from stockfish import Stockfish\n",
    "from tqdm import tqdm\n",
    "import ast"
   ]
  },
  {
   "cell_type": "code",
   "execution_count": null,
   "metadata": {},
   "outputs": [],
   "source": [
    "tqdm.pandas(desc=\"Processing...\", unit=\"game\")"
   ]
  },
  {
   "cell_type": "code",
   "execution_count": null,
   "metadata": {},
   "outputs": [],
   "source": [
    "df = pd.read_csv('../../dados/base/chess_games_chesscom.csv')"
   ]
  },
  {
   "cell_type": "code",
   "execution_count": null,
   "metadata": {},
   "outputs": [],
   "source": [
    "df['move_evals'] = df['move_evals'].apply(lambda x: ast.literal_eval(x) if isinstance(x, str) else x)"
   ]
  },
  {
   "cell_type": "code",
   "execution_count": null,
   "metadata": {},
   "outputs": [],
   "source": [
    "stockfish_path = '../testes/stockfish/stockfish-windows-x86-64-avx2.exe'\n",
    "\n",
    "params = {\n",
    "    \"Threads\": 4,\n",
    "    \"Hash\": 2048,\n",
    "}\n",
    "\n",
    "stockfish = Stockfish(path=stockfish_path, depth=15, parameters=params)"
   ]
  },
  {
   "cell_type": "code",
   "execution_count": null,
   "metadata": {},
   "outputs": [],
   "source": [
    "df = df[df['player'] == 'Mr-Barros']\n",
    "# df = df[df['rules'] == 'chess']"
   ]
  },
  {
   "cell_type": "code",
   "execution_count": null,
   "metadata": {},
   "outputs": [],
   "source": [
    "def cut_eco_name(eco_url):\n",
    "    eco_parts = eco_url.split('/')\n",
    "    eco_full_name = eco_parts[-1]\n",
    "\n",
    "    eco = ' '.join(eco_full_name.split('-')[:2])\n",
    "\n",
    "    if '.' in eco:\n",
    "        eco = eco.split('.')[0]\n",
    "    return eco"
   ]
  },
  {
   "cell_type": "code",
   "execution_count": null,
   "metadata": {},
   "outputs": [],
   "source": [
    "df['eco'] = df['eco'].apply(cut_eco_name)"
   ]
  },
  {
   "cell_type": "code",
   "execution_count": null,
   "metadata": {},
   "outputs": [],
   "source": [
    "winrates = {}\n",
    "for opening in df['eco'].unique():\n",
    "    kings_pawn_games = df[df['eco'].str.contains(opening)]\n",
    "    wins = kings_pawn_games[kings_pawn_games['player_pieces'] == kings_pawn_games['winner']]\n",
    "    if len(kings_pawn_games) < len(df)/100:\n",
    "        winrates[opening] = 'unknown'\n",
    "    else:\n",
    "        winrates[opening] = len(wins)/len(kings_pawn_games)"
   ]
  },
  {
   "cell_type": "code",
   "execution_count": null,
   "metadata": {},
   "outputs": [],
   "source": [
    "def decode(n):\n",
    "\n",
    "    if not isinstance(n,str):\n",
    "        return\n",
    "\n",
    "    T = \"abcdefghijklmnopqrstuvwxyzABCDEFGHIJKLMNOPQRSTUVWXYZ0123456789!?{~}(^)[_]@#$,./&-*++=\"\n",
    "\n",
    "    result = []\n",
    "    w = len(n)\n",
    "    for i in range(0, w, 2):\n",
    "        move = {}\n",
    "        drop = False\n",
    "        o = T.index(n[i])\n",
    "        s = T.index(n[i + 1])\n",
    "        \n",
    "        # Check if `s` indicates a promotion\n",
    "        if s > 63:\n",
    "            promotion_piece = \"qnrbkp\"[(s - 64) // 3]\n",
    "            move[\"promotion\"] = promotion_piece\n",
    "            s = o + (-8 if o < 16 else 8) + ((s - 1) % 3) - 1\n",
    "\n",
    "        # Check if `o` indicates a drop\n",
    "        if o > 75:\n",
    "            move[\"drop\"] = \"qnrbkp\"[o - 79]\n",
    "            drop = True\n",
    "        else:\n",
    "            move[\"from\"] = T[o % 8] + str((o // 8) + 1)\n",
    "\n",
    "        move[\"to\"] = T[s % 8] + str((s // 8) + 1)\n",
    "\n",
    "        # output formatting\n",
    "        if not drop:\n",
    "            move_string = move['from'] + move['to']\n",
    "            if 'promotion' in move.keys():\n",
    "                move_string += move['promotion']\n",
    "            result.append(move_string)\n",
    "        else:\n",
    "            move_string = 'D' + move['drop'] + move['to']\n",
    "            result.append(move_string)\n",
    "    \n",
    "    return result\n",
    "\n",
    "# function to encode into TCN\n",
    "# def encode(n):\n",
    "\n",
    "#     if not isinstance(n,str):\n",
    "#         return\n",
    "\n",
    "#     T = \"abcdefghijklmnopqrstuvwxyzABCDEFGHIJKLMNOPQRSTUVWXYZ0123456789!?{~}(^)[_]@#$,./&-*++=\"\n",
    "#     if not isinstance(n, list):\n",
    "#         n = [n]\n",
    "        \n",
    "#     result = \"\"\n",
    "#     for move in n:\n",
    "#         if \"drop\" in move:\n",
    "#             s = 79 + \"qnrbkp\".index(move[\"drop\"])\n",
    "#         else:\n",
    "#             s = T.index(move[\"from\"][0]) + 8 * (int(move[\"from\"][1]) - 1)\n",
    "        \n",
    "#         _ = T.index(move[\"to\"][0]) + 8 * (int(move[\"to\"][1]) - 1)\n",
    "        \n",
    "#         if \"promotion\" in move:\n",
    "#             promotion_piece_index = \"qnrbkp\".index(move[\"promotion\"])\n",
    "#             _ = 3 * promotion_piece_index + 64 + (9 + _ - s if _ < s else _ - s - 7)\n",
    "        \n",
    "#         result += T[s] + T[_]\n",
    "    \n",
    "#     return result"
   ]
  },
  {
   "cell_type": "code",
   "execution_count": null,
   "metadata": {},
   "outputs": [],
   "source": [
    "df['move_list'] = df['tcn'].apply(decode)"
   ]
  },
  {
   "cell_type": "code",
   "execution_count": null,
   "metadata": {},
   "outputs": [],
   "source": [
    "initial_board = {\n",
    "    'a8': 'r', 'b8': 'n', 'c8': 'b', 'd8': 'q', 'e8': 'k', 'f8': 'b', 'g8': 'n', 'h8': 'r',\n",
    "    'a7': 'p', 'b7': 'p', 'c7': 'p', 'd7': 'p', 'e7': 'p', 'f7': 'p', 'g7': 'p', 'h7': 'p',\n",
    "    'a2': 'P', 'b2': 'P', 'c2': 'P', 'd2': 'P', 'e2': 'P', 'f2': 'P', 'g2': 'P', 'h2': 'P',\n",
    "    'a1': 'R', 'b1': 'N', 'c1': 'B', 'd1': 'Q', 'e1': 'K', 'f1': 'B', 'g1': 'N', 'h1': 'R'\n",
    "}\n",
    "\n",
    "piece_values = {'p': 1, 'P': 1, 'n': 3, 'N': 3, 'b': 3, 'B': 3, 'r': 5, 'R': 5, 'q': 9, 'Q': 9, 'k': 0, 'K': 0}\n",
    "\n",
    "def count_material(move_list):\n",
    "    '''\n",
    "    não leva em consideração enpassant por considerações de eficiência.\n",
    "    '''\n",
    "    if not isinstance(move_list, list):\n",
    "        return\n",
    "    \n",
    "    board = initial_board.copy()\n",
    "    material_history = []\n",
    "\n",
    "    for move in move_list:\n",
    "\n",
    "        if move[0] == 'D':\n",
    "            return\n",
    "\n",
    "        from_square = move[:2]\n",
    "        to_square = move[2:4]\n",
    "\n",
    "        if len(move) > 4: # promotes the piece\n",
    "            piece = board.get(from_square)\n",
    "            if piece.isupper():\n",
    "                board[from_square] = move[-1]\n",
    "            else:\n",
    "                board[from_square] = move[-1].lower()\n",
    "\n",
    "        # Move the piece\n",
    "        piece = board.get(from_square)\n",
    "        if piece:\n",
    "            board[to_square] = piece  # Place piece on new square\n",
    "            del board[from_square]  # Remove from old square\n",
    "\n",
    "        # Update material counts after the move\n",
    "        white_material = sum(piece_values[piece] for piece in board.values() if piece.isupper())\n",
    "        black_material = sum(piece_values[piece] for piece in board.values() if piece.islower())\n",
    "        material_history.append((white_material, black_material))\n",
    "\n",
    "    return material_history"
   ]
  },
  {
   "cell_type": "code",
   "execution_count": null,
   "metadata": {},
   "outputs": [],
   "source": [
    "starting_fen ='rnbqkbnr/pppppppp/8/8/8/8/PPPPPPPP/RNBQKBNR w KQkq - 0 1'\n",
    "def get_game_eval(move_list):\n",
    "    '''\n",
    "    usa o stockfish para avaliar cada posição de um jogo.\n",
    "    '''\n",
    "    if not isinstance(move_list, list):\n",
    "        return\n",
    "    move_evals = []\n",
    "    stockfish.set_fen_position(starting_fen)\n",
    "\n",
    "    try:\n",
    "        for move in move_list:\n",
    "            \n",
    "            # Using Stockfish to get evaluation\n",
    "            stockfish.make_moves_from_current_position([move])\n",
    "            eval = stockfish.get_evaluation()\n",
    "            move_evals.append(eval)\n",
    "        return move_evals\n",
    "    except:\n",
    "        return"
   ]
  },
  {
   "cell_type": "code",
   "execution_count": null,
   "metadata": {},
   "outputs": [],
   "source": [
    "def extract_from_moves(move_list):\n",
    "    \"\"\"\n",
    "    Function to aggregate the different extraction function loops in a single one, for the sake of efficiency.\n",
    "    \"\"\"\n",
    "    if not isinstance(move_list, list):\n",
    "        return\n",
    "    "
   ]
  },
  {
   "cell_type": "code",
   "execution_count": null,
   "metadata": {},
   "outputs": [],
   "source": [
    "df['material_count'] = df['move_list'].progress_apply(count_material)"
   ]
  },
  {
   "cell_type": "code",
   "execution_count": null,
   "metadata": {},
   "outputs": [],
   "source": [
    "reeval = False"
   ]
  },
  {
   "cell_type": "code",
   "execution_count": null,
   "metadata": {},
   "outputs": [],
   "source": [
    "if ('move_evals' not in df.columns) or reeval:\n",
    "    df['move_evals'] = df['move_list'].progress_apply(get_game_eval)\n"
   ]
  },
  {
   "cell_type": "code",
   "execution_count": null,
   "metadata": {},
   "outputs": [],
   "source": [
    "def map_eval(eval):\n",
    "    if eval['type'] == 'mate':\n",
    "        if eval['value'] > 0:\n",
    "            return 4\n",
    "        else:\n",
    "            return -4\n",
    "    else:\n",
    "        value = eval['value']\n",
    "        if value < -500:\n",
    "            return -3\n",
    "        elif -500 <= value < -300:\n",
    "            return -2\n",
    "        elif -300 <= value < -50:\n",
    "            return -1\n",
    "        elif -50 <= value < 50:\n",
    "            return 0\n",
    "        elif 50 <= value < 300:\n",
    "            return 1\n",
    "        elif 300 <= value < 500:\n",
    "            return 2\n",
    "        else:\n",
    "            return 3"
   ]
  },
  {
   "cell_type": "code",
   "execution_count": null,
   "metadata": {},
   "outputs": [],
   "source": [
    "def extrai_eval_fases(row):\n",
    "    \n",
    "    evals = row['move_evals']\n",
    "    material_counts = row['material_count']\n",
    "\n",
    "    if not isinstance(evals, list) or not isinstance(material_counts, list):\n",
    "        return row\n",
    "\n",
    "    if len(evals) >= 24:\n",
    "        eval = evals[23]\n",
    "    else:\n",
    "        eval = evals[-1]\n",
    "    row['opening_eval'] = map_eval(eval)\n",
    "\n",
    "    # Getting the \n",
    "    for i, counts in enumerate(material_counts):\n",
    "        if counts[0] <= 15 and counts[1] <= 15:\n",
    "            eval = evals[i]\n",
    "            row['midgame_eval'] = map_eval(eval)\n",
    "            break\n",
    "\n",
    "    if 'midgame_eval' not in row.index:\n",
    "        eval = evals[-1]\n",
    "        row['midgame_eval'] = map_eval(eval)\n",
    "    elif pd.isna(row['midgame_eval']):\n",
    "        eval = evals[-1]\n",
    "        row['midgame_eval'] = map_eval(eval)\n",
    "    \n",
    "    return row"
   ]
  },
  {
   "cell_type": "code",
   "execution_count": null,
   "metadata": {},
   "outputs": [],
   "source": [
    "def evaluate_quality(eval: dict, previous_eval: dict, turn: bool):\n",
    "    WHITE = 0\n",
    "    BLACK = 1\n",
    "\n",
    "    # From centipawn to centipawn\n",
    "    if previous_eval['type'] == 'cp' and eval['type'] == 'cp':\n",
    "        # Assuming the player will never make the evaluation increase, we calculate how much it decreased in absolute value\n",
    "        decrease = abs(eval['value'] - previous_eval['value'])\n",
    "\n",
    "        if decrease == 0:\n",
    "            quality = 'Best'\n",
    "        elif decrease < 50:\n",
    "            quality = 'Excellent'\n",
    "        elif decrease < 100: \n",
    "            quality = 'Good'\n",
    "        elif decrease < 200:\n",
    "            quality = 'Inaccuracy'\n",
    "        elif decrease < 300:\n",
    "            quality = 'Mistake'\n",
    "        else:\n",
    "            quality = 'Blunder'\n",
    "\n",
    "    # Mate sequence changed to centipawn, a mate was missed\n",
    "    elif previous_eval['type'] == 'mate' and eval['type'] == 'cp':\n",
    "        quality = 'Missed Mate'\n",
    "    \n",
    "    # Centipawn changed to mate\n",
    "    # Either one player blundered a mate, or stockfish had a high centipawn eval but hadn't seen the mate sequence\n",
    "    elif previous_eval['type'] == 'cp' and eval['type'] == 'mate':\n",
    "        if (turn == WHITE and eval['value'] < 0) or (turn == BLACK and eval['value'] > 0):\n",
    "            quality = 'Blunder' # We assume eval will never go from centipawn to mate in 0\n",
    "        else:\n",
    "            quality = 'Best'\n",
    "\n",
    "    else: # both evals are of type mate\n",
    "        distance_change = eval['value'] - previous_eval['value']\n",
    "\n",
    "        if turn == WHITE:\n",
    "            pass\n",
    "        # else: # Black's turn\n",
    "        #     distance_change\n"
   ]
  },
  {
   "cell_type": "code",
   "execution_count": null,
   "metadata": {},
   "outputs": [],
   "source": [
    "# def extract_move_qualities(row):\n",
    "#     evals = row['move_evals']\n",
    "#     previous_eval = {\n",
    "\n",
    "#     }"
   ]
  },
  {
   "cell_type": "code",
   "execution_count": null,
   "metadata": {},
   "outputs": [],
   "source": [
    "original_columns = list(df.columns)\n",
    "if 'opening_eval' not in original_columns:\n",
    "    new_columns = ['opening_eval', 'midgame_eval']\n",
    "    final_columns = original_columns + new_columns\n",
    "else:\n",
    "    final_columns = original_columns\n",
    "\n",
    "df = df.apply(extrai_eval_fases, axis=1)"
   ]
  },
  {
   "cell_type": "code",
   "execution_count": null,
   "metadata": {},
   "outputs": [],
   "source": [
    "df = df[final_columns]"
   ]
  },
  {
   "cell_type": "code",
   "execution_count": null,
   "metadata": {},
   "outputs": [],
   "source": [
    "# add the winrates with the opening used in each game\n",
    "\n",
    "df['winrate_with_opening'] = 0.0\n",
    "\n",
    "for op in df['eco'].unique():\n",
    "    df.loc[df['eco']==op,'winrate_with_opening'] = winrates[op]"
   ]
  },
  {
   "cell_type": "code",
   "execution_count": null,
   "metadata": {},
   "outputs": [],
   "source": [
    "df.to_csv('../../dados/base/chess_games_chesscom.csv',index=False)"
   ]
  }
 ],
 "metadata": {
  "language_info": {
   "name": "python"
  }
 },
 "nbformat": 4,
 "nbformat_minor": 2
}
