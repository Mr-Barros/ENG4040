{
 "cells": [
  {
   "cell_type": "code",
   "execution_count": 12,
   "metadata": {},
   "outputs": [],
   "source": [
    "import pandas as pd\n",
    "import numpy as np\n",
    "import matplotlib.pyplot as plt\n",
    "import seaborn as sns\n",
    "from mlxtend.frequent_patterns import apriori, association_rules"
   ]
  },
  {
   "cell_type": "code",
   "execution_count": 13,
   "metadata": {},
   "outputs": [
    {
     "name": "stdout",
     "output_type": "stream",
     "text": [
      "Mr-Barros games: (2149, 27)\n",
      "                                           url  \\\n",
      "0  https://www.chess.com/game/live/13542785939   \n",
      "1   https://www.chess.com/game/daily/330957418   \n",
      "2  https://www.chess.com/game/live/13557082425   \n",
      "3  https://www.chess.com/game/live/13557721435   \n",
      "4  https://www.chess.com/game/live/13558396887   \n",
      "\n",
      "                                                 pgn time_control  \\\n",
      "0  [Event \"Live Chess\"]\\n[Site \"Chess.com\"]\\n[Dat...          600   \n",
      "1  [Event \"Let's Play\"]\\n[Site \"Chess.com\"]\\n[Dat...    1/1209600   \n",
      "2  [Event \"Live Chess\"]\\n[Site \"Chess.com\"]\\n[Dat...          600   \n",
      "3  [Event \"Live Chess\"]\\n[Site \"Chess.com\"]\\n[Dat...          600   \n",
      "4  [Event \"Live Chess\"]\\n[Site \"Chess.com\"]\\n[Dat...          600   \n",
      "\n",
      "              end_time  rated  \\\n",
      "0  2021-04-30 17:44:18   True   \n",
      "1  2021-04-30 17:50:33   True   \n",
      "2  2021-04-30 21:37:31   True   \n",
      "3  2021-04-30 21:52:26   True   \n",
      "4  2021-04-30 22:04:11   True   \n",
      "\n",
      "                                          accuracies  \\\n",
      "0                   {'white': 68.58, 'black': 64.14}   \n",
      "1                                                NaN   \n",
      "2                                                NaN   \n",
      "3                                                NaN   \n",
      "4  {'white': 40.22428648613115, 'black': 69.46623...   \n",
      "\n",
      "                                                 tcn  \\\n",
      "0  lB0KBK9zksz9nD5QjzWGgxGzszQziqzJdJZRJdRKd787DK...   \n",
      "1                                             mC0Kgv   \n",
      "2  mC0KlBKBdB5QBs9zclzsls1TblZRec6EdeTLpFLClCRJCT...   \n",
      "3  mC0KlBZJgvJCcM90M080vK1TKA6SAu5QBJQKJS7dud0SnD...   \n",
      "4  lBZJbs!Tnv6LoELUEMTNmCJCvC5QBJQKdB1Tpx7RfmNwhp...   \n",
      "\n",
      "                                   uuid initial_setup  \\\n",
      "0  c88d9027-a9d9-11eb-8f87-536974010001           NaN   \n",
      "1  5c91e22a-a9dc-11eb-a4f6-c88b8701000b           NaN   \n",
      "2  92b893ca-a9fa-11eb-8f87-536974010001           NaN   \n",
      "3  4e3e9909-a9fc-11eb-8f87-536974010001           NaN   \n",
      "4  6175a87a-a9fe-11eb-8f87-536974010001           NaN   \n",
      "\n",
      "                                                 fen  ... opponent_rating  \\\n",
      "0                3k2R1/5R2/8/7B/1B5P/6P1/5K2/8 b - -  ...             638   \n",
      "1  rnbqkbnr/pppp1ppp/8/4p3/4P3/5N2/PPPP1PPP/RNBQK...  ...             800   \n",
      "2                  8/p7/R7/8/7P/k7/4NPP1/1R1K4 b - -  ...             970   \n",
      "3              1R6/6p1/R7/7p/5P2/k5P1/4r2P/6K1 b - -  ...             856   \n",
      "4    8/p5B1/1p2k2p/2b3p1/P1P1Kr1p/1RQ5/1P6/3r4 w - -  ...             749   \n",
      "\n",
      "  player_pieces winner  win_method  \\\n",
      "0         white  white  checkmated   \n",
      "1         black  black    resigned   \n",
      "2         black  white  checkmated   \n",
      "3         black  white  checkmated   \n",
      "4         white  black  checkmated   \n",
      "\n",
      "                                           move_list  \\\n",
      "0  ['d2d4', 'e7e5', 'd4e5', 'f8b4', 'c2c3', 'b4f8...   \n",
      "1                           ['e2e4', 'e7e5', 'g1f3']   \n",
      "2  ['e2e4', 'e7e5', 'd2d4', 'e5d4', 'd1d4', 'b8c6...   \n",
      "3  ['e2e4', 'e7e5', 'd2d4', 'd7d5', 'g1f3', 'd5e4...   \n",
      "4  ['d2d4', 'd7d5', 'b1c3', 'g8f6', 'f2f3', 'c8f5...   \n",
      "\n",
      "                                          move_evals  \\\n",
      "0  [{'type': 'cp', 'value': 25}, {'type': 'cp', '...   \n",
      "1  [{'type': 'cp', 'value': 31}, {'type': 'cp', '...   \n",
      "2  [{'type': 'cp', 'value': 31}, {'type': 'cp', '...   \n",
      "3  [{'type': 'cp', 'value': 32}, {'type': 'cp', '...   \n",
      "4  [{'type': 'cp', 'value': 25}, {'type': 'cp', '...   \n",
      "\n",
      "                                      material_count  winrate_with_opening  \\\n",
      "0  [(39, 39), (39, 39), (39, 38), (39, 38), (39, ...              0.479381   \n",
      "1                     [(39, 39), (39, 39), (39, 39)]              0.502762   \n",
      "2  [(39, 39), (39, 39), (39, 39), (38, 39), (38, ...              0.446809   \n",
      "3  [(39, 39), (39, 39), (39, 39), (39, 39), (39, ...              0.446809   \n",
      "4  [(39, 39), (39, 39), (39, 39), (39, 39), (39, ...              0.500000   \n",
      "\n",
      "  opening_eval midgame_eval  \n",
      "0          2.0         -4.0  \n",
      "1          0.0          0.0  \n",
      "2         -1.0         -4.0  \n",
      "3          2.0          3.0  \n",
      "4         -1.0         -4.0  \n",
      "\n",
      "[5 rows x 27 columns]\n"
     ]
    }
   ],
   "source": [
    "username = 'Mr-Barros'\n",
    "df = pd.read_csv('../../dados/base/chess_games_chesscom.csv')\n",
    "df = df[df['player'] == username]\n",
    "\n",
    "print(f'{username} games: {df.shape}')\n",
    "print(df.head())"
   ]
  },
  {
   "cell_type": "markdown",
   "metadata": {},
   "source": [
    "## Falta discretizar winrate_with_opening."
   ]
  },
  {
   "cell_type": "code",
   "execution_count": 14,
   "metadata": {},
   "outputs": [
    {
     "name": "stdout",
     "output_type": "stream",
     "text": [
      "Unique values of time_control: ['600' '1/1209600' '1800' '60' '3600' '180' '300' '60+1' '180+2' '7200'\n",
      " '1/0']\n",
      "Unique values of time_class: ['rapid' 'daily' 'bullet' 'blitz']\n",
      "Unique values of rated: [ True False]\n",
      "Unique values of player_pieces: ['white' 'black']\n",
      "Unique values of winner: ['white' 'black' 'draw']\n",
      "Unique values of win_method: ['checkmated' 'resigned' 'timeout' 'agreed' 'abandoned'\n",
      " 'timevsinsufficient' 'stalemate' 'threecheck' 'insufficient' 'repetition'\n",
      " 'bughousepartnerlose']\n",
      "Unique values of opening_eval: [ 2.  0. -1. -3.  3.  1. -4. -2.  4. nan]\n",
      "Unique values of midgame_eval: [-4.  0.  3. -1. -3.  1.  4.  2. -2. nan]\n"
     ]
    },
    {
     "data": {
      "text/plain": [
       "url                        0\n",
       "pgn                        4\n",
       "time_control               0\n",
       "end_time                   0\n",
       "rated                      0\n",
       "accuracies              2005\n",
       "tcn                        5\n",
       "uuid                       0\n",
       "initial_setup           2145\n",
       "fen                        0\n",
       "time_class                 0\n",
       "rules                      0\n",
       "eco                        0\n",
       "start_time              2147\n",
       "player                     0\n",
       "player_rating              0\n",
       "opponent                   0\n",
       "opponent_rating            0\n",
       "player_pieces              0\n",
       "winner                     0\n",
       "win_method                 0\n",
       "move_list                  5\n",
       "move_evals                 5\n",
       "material_count             8\n",
       "winrate_with_opening       0\n",
       "opening_eval               8\n",
       "midgame_eval               8\n",
       "dtype: int64"
      ]
     },
     "execution_count": 14,
     "metadata": {},
     "output_type": "execute_result"
    }
   ],
   "source": [
    "for column in ['time_control', 'time_class', 'rated', 'player_pieces', 'winner', 'win_method', 'opening_eval', 'midgame_eval']:\n",
    "    print(f'Unique values of {column}: {df[column].unique()}')\n",
    "\n",
    "df.isna().sum()"
   ]
  },
  {
   "cell_type": "code",
   "execution_count": 15,
   "metadata": {},
   "outputs": [
    {
     "name": "stdout",
     "output_type": "stream",
     "text": [
      "Unique value of win_method ['checkmated' 'resigned' 'timeout' 'agreed' 'abandoned'\n",
      " 'timevsinsufficient' 'stalemate' 'insufficient' 'repetition']\n",
      "                                                 pgn time_control  \\\n",
      "0  [Event \"Live Chess\"]\\n[Site \"Chess.com\"]\\n[Dat...          600   \n",
      "1  [Event \"Let's Play\"]\\n[Site \"Chess.com\"]\\n[Dat...    1/1209600   \n",
      "2  [Event \"Live Chess\"]\\n[Site \"Chess.com\"]\\n[Dat...          600   \n",
      "3  [Event \"Live Chess\"]\\n[Site \"Chess.com\"]\\n[Dat...          600   \n",
      "4  [Event \"Live Chess\"]\\n[Site \"Chess.com\"]\\n[Dat...          600   \n",
      "\n",
      "              end_time  rated time_class  rules             eco     player  \\\n",
      "0  2021-04-30 17:44:18   True      rapid  chess  Englund Gambit  Mr-Barros   \n",
      "1  2021-04-30 17:50:33   True      daily  chess      Kings Pawn  Mr-Barros   \n",
      "2  2021-04-30 21:37:31   True      rapid  chess     Center Game  Mr-Barros   \n",
      "3  2021-04-30 21:52:26   True      rapid  chess     Center Game  Mr-Barros   \n",
      "4  2021-04-30 22:04:11   True      rapid  chess     Queens Pawn  Mr-Barros   \n",
      "\n",
      "   player_rating       opponent  opponent_rating player_pieces winner  \\\n",
      "0            962  juanpaublog4Y              638         white  white   \n",
      "1            800     odsjddskda              800         black  black   \n",
      "2            820      subhodaya              970         black  white   \n",
      "3            721       NoootNot              856         black  white   \n",
      "4            644        hehehir              749         white  black   \n",
      "\n",
      "   win_method  winrate_with_opening  opening_eval  midgame_eval  \n",
      "0  checkmated              0.479381           2.0          -4.0  \n",
      "1    resigned              0.502762           0.0           0.0  \n",
      "2  checkmated              0.446809          -1.0          -4.0  \n",
      "3  checkmated              0.446809           2.0           3.0  \n",
      "4  checkmated              0.500000          -1.0          -4.0  \n"
     ]
    }
   ],
   "source": [
    "df = df.drop([\n",
    "            df.columns[0], \n",
    "            'url', \n",
    "            'accuracies', \n",
    "            'tcn', \n",
    "            'uuid', \n",
    "            'initial_setup', \n",
    "            'fen', \n",
    "            'start_time', \n",
    "            'move_list',\n",
    "            'move_evals',\n",
    "            'material_count',\n",
    "            ], axis=1)\n",
    "\n",
    "# We only want to analyse normal chess games\n",
    "df = df[df['rules'] == 'chess']\n",
    "\n",
    "print(f'Unique value of win_method {df[\"win_method\"].unique()}')\n",
    "\n",
    "print(df.head())"
   ]
  },
  {
   "cell_type": "code",
   "execution_count": 16,
   "metadata": {},
   "outputs": [
    {
     "data": {
      "text/plain": [
       "pgn                     0\n",
       "time_control            0\n",
       "end_time                0\n",
       "rated                   0\n",
       "time_class              0\n",
       "rules                   0\n",
       "eco                     0\n",
       "player                  0\n",
       "player_rating           0\n",
       "opponent                0\n",
       "opponent_rating         0\n",
       "player_pieces           0\n",
       "winner                  0\n",
       "win_method              0\n",
       "winrate_with_opening    0\n",
       "opening_eval            4\n",
       "midgame_eval            4\n",
       "dtype: int64"
      ]
     },
     "execution_count": 16,
     "metadata": {},
     "output_type": "execute_result"
    }
   ],
   "source": [
    "df.isna().sum()"
   ]
  },
  {
   "cell_type": "code",
   "execution_count": 17,
   "metadata": {},
   "outputs": [
    {
     "name": "stdout",
     "output_type": "stream",
     "text": [
      "Unique values of player_won: ['win' 'loss' 'draw']\n"
     ]
    }
   ],
   "source": [
    "# Add the 'result' column\n",
    "def determine_result(row):\n",
    "    if row['winner'] == 'draw':\n",
    "        return 'draw'\n",
    "    elif row['winner'] == row['player_pieces']:\n",
    "        return 'win'\n",
    "    else:\n",
    "        return 'loss'\n",
    "\n",
    "df['result'] = df.apply(determine_result, axis=1)\n",
    "\n",
    "# Display the unique values for the new 'result' column\n",
    "print(f'Unique values of player_won: {df[\"result\"].unique()}')\n"
   ]
  },
  {
   "cell_type": "code",
   "execution_count": 18,
   "metadata": {},
   "outputs": [],
   "source": [
    "# makes it so the value is in reference to the player advantage\n",
    "df.loc[df['player_pieces'] == 'black', 'opening_eval'] = (-1)*df.loc[df['player_pieces'] == 'black', 'opening_eval']\n",
    "df.loc[df['player_pieces'] == 'black', 'midgame_eval'] = (-1)*df.loc[df['player_pieces'] == 'black', 'midgame_eval']"
   ]
  },
  {
   "cell_type": "code",
   "execution_count": 19,
   "metadata": {},
   "outputs": [
    {
     "name": "stdout",
     "output_type": "stream",
     "text": [
      "<class 'pandas.core.frame.DataFrame'>\n"
     ]
    }
   ],
   "source": [
    "print(type(df))"
   ]
  },
  {
   "cell_type": "code",
   "execution_count": 20,
   "metadata": {},
   "outputs": [
    {
     "name": "stdout",
     "output_type": "stream",
     "text": [
      "['pgn', 'time_control', 'end_time', 'rated', 'time_class', 'rules', 'eco', 'player', 'player_rating', 'opponent', 'opponent_rating', 'player_pieces', 'winner', 'win_method', 'winrate_with_opening', 'opening_eval', 'midgame_eval', 'result']\n"
     ]
    }
   ],
   "source": [
    "print(df.columns.tolist())"
   ]
  },
  {
   "cell_type": "code",
   "execution_count": 21,
   "metadata": {},
   "outputs": [
    {
     "data": {
      "text/plain": [
       "pgn                      object\n",
       "time_control             object\n",
       "end_time                 object\n",
       "rated                      bool\n",
       "time_class               object\n",
       "rules                    object\n",
       "eco                      object\n",
       "player                   object\n",
       "player_rating             int64\n",
       "opponent                 object\n",
       "opponent_rating           int64\n",
       "player_pieces            object\n",
       "winner                   object\n",
       "win_method               object\n",
       "winrate_with_opening    float64\n",
       "opening_eval            float64\n",
       "midgame_eval            float64\n",
       "result                   object\n",
       "dtype: object"
      ]
     },
     "execution_count": 21,
     "metadata": {},
     "output_type": "execute_result"
    }
   ],
   "source": [
    "df.dtypes"
   ]
  },
  {
   "cell_type": "code",
   "execution_count": 22,
   "metadata": {},
   "outputs": [
    {
     "ename": "ValueError",
     "evalue": "could not convert string to float: 'win'",
     "output_type": "error",
     "traceback": [
      "\u001b[0;31m---------------------------------------------------------------------------\u001b[0m",
      "\u001b[0;31mValueError\u001b[0m                                Traceback (most recent call last)",
      "Cell \u001b[0;32mIn[22], line 9\u001b[0m\n\u001b[1;32m      1\u001b[0m numerical_df \u001b[38;5;241m=\u001b[39m df[[\n\u001b[1;32m      2\u001b[0m         \u001b[38;5;124m'\u001b[39m\u001b[38;5;124mplayer_rating\u001b[39m\u001b[38;5;124m'\u001b[39m,\n\u001b[1;32m      3\u001b[0m         \u001b[38;5;124m'\u001b[39m\u001b[38;5;124mopponent_rating\u001b[39m\u001b[38;5;124m'\u001b[39m,\n\u001b[0;32m   (...)\u001b[0m\n\u001b[1;32m      6\u001b[0m         \u001b[38;5;124m'\u001b[39m\u001b[38;5;124mresult\u001b[39m\u001b[38;5;124m'\u001b[39m\n\u001b[1;32m      7\u001b[0m         ]]\n\u001b[0;32m----> 9\u001b[0m \u001b[43mnumerical_df\u001b[49m\u001b[38;5;241;43m.\u001b[39;49m\u001b[43mcorr\u001b[49m\u001b[43m(\u001b[49m\u001b[43m)\u001b[49m\n",
      "File \u001b[0;32m~/Developer/PUC/Data Science/venv/lib/python3.11/site-packages/pandas/core/frame.py:11049\u001b[0m, in \u001b[0;36mDataFrame.corr\u001b[0;34m(self, method, min_periods, numeric_only)\u001b[0m\n\u001b[1;32m  11047\u001b[0m cols \u001b[38;5;241m=\u001b[39m data\u001b[38;5;241m.\u001b[39mcolumns\n\u001b[1;32m  11048\u001b[0m idx \u001b[38;5;241m=\u001b[39m cols\u001b[38;5;241m.\u001b[39mcopy()\n\u001b[0;32m> 11049\u001b[0m mat \u001b[38;5;241m=\u001b[39m \u001b[43mdata\u001b[49m\u001b[38;5;241;43m.\u001b[39;49m\u001b[43mto_numpy\u001b[49m\u001b[43m(\u001b[49m\u001b[43mdtype\u001b[49m\u001b[38;5;241;43m=\u001b[39;49m\u001b[38;5;28;43mfloat\u001b[39;49m\u001b[43m,\u001b[49m\u001b[43m \u001b[49m\u001b[43mna_value\u001b[49m\u001b[38;5;241;43m=\u001b[39;49m\u001b[43mnp\u001b[49m\u001b[38;5;241;43m.\u001b[39;49m\u001b[43mnan\u001b[49m\u001b[43m,\u001b[49m\u001b[43m \u001b[49m\u001b[43mcopy\u001b[49m\u001b[38;5;241;43m=\u001b[39;49m\u001b[38;5;28;43;01mFalse\u001b[39;49;00m\u001b[43m)\u001b[49m\n\u001b[1;32m  11051\u001b[0m \u001b[38;5;28;01mif\u001b[39;00m method \u001b[38;5;241m==\u001b[39m \u001b[38;5;124m\"\u001b[39m\u001b[38;5;124mpearson\u001b[39m\u001b[38;5;124m\"\u001b[39m:\n\u001b[1;32m  11052\u001b[0m     correl \u001b[38;5;241m=\u001b[39m libalgos\u001b[38;5;241m.\u001b[39mnancorr(mat, minp\u001b[38;5;241m=\u001b[39mmin_periods)\n",
      "File \u001b[0;32m~/Developer/PUC/Data Science/venv/lib/python3.11/site-packages/pandas/core/frame.py:1993\u001b[0m, in \u001b[0;36mDataFrame.to_numpy\u001b[0;34m(self, dtype, copy, na_value)\u001b[0m\n\u001b[1;32m   1991\u001b[0m \u001b[38;5;28;01mif\u001b[39;00m dtype \u001b[38;5;129;01mis\u001b[39;00m \u001b[38;5;129;01mnot\u001b[39;00m \u001b[38;5;28;01mNone\u001b[39;00m:\n\u001b[1;32m   1992\u001b[0m     dtype \u001b[38;5;241m=\u001b[39m np\u001b[38;5;241m.\u001b[39mdtype(dtype)\n\u001b[0;32m-> 1993\u001b[0m result \u001b[38;5;241m=\u001b[39m \u001b[38;5;28;43mself\u001b[39;49m\u001b[38;5;241;43m.\u001b[39;49m\u001b[43m_mgr\u001b[49m\u001b[38;5;241;43m.\u001b[39;49m\u001b[43mas_array\u001b[49m\u001b[43m(\u001b[49m\u001b[43mdtype\u001b[49m\u001b[38;5;241;43m=\u001b[39;49m\u001b[43mdtype\u001b[49m\u001b[43m,\u001b[49m\u001b[43m \u001b[49m\u001b[43mcopy\u001b[49m\u001b[38;5;241;43m=\u001b[39;49m\u001b[43mcopy\u001b[49m\u001b[43m,\u001b[49m\u001b[43m \u001b[49m\u001b[43mna_value\u001b[49m\u001b[38;5;241;43m=\u001b[39;49m\u001b[43mna_value\u001b[49m\u001b[43m)\u001b[49m\n\u001b[1;32m   1994\u001b[0m \u001b[38;5;28;01mif\u001b[39;00m result\u001b[38;5;241m.\u001b[39mdtype \u001b[38;5;129;01mis\u001b[39;00m \u001b[38;5;129;01mnot\u001b[39;00m dtype:\n\u001b[1;32m   1995\u001b[0m     result \u001b[38;5;241m=\u001b[39m np\u001b[38;5;241m.\u001b[39masarray(result, dtype\u001b[38;5;241m=\u001b[39mdtype)\n",
      "File \u001b[0;32m~/Developer/PUC/Data Science/venv/lib/python3.11/site-packages/pandas/core/internals/managers.py:1694\u001b[0m, in \u001b[0;36mBlockManager.as_array\u001b[0;34m(self, dtype, copy, na_value)\u001b[0m\n\u001b[1;32m   1692\u001b[0m         arr\u001b[38;5;241m.\u001b[39mflags\u001b[38;5;241m.\u001b[39mwriteable \u001b[38;5;241m=\u001b[39m \u001b[38;5;28;01mFalse\u001b[39;00m\n\u001b[1;32m   1693\u001b[0m \u001b[38;5;28;01melse\u001b[39;00m:\n\u001b[0;32m-> 1694\u001b[0m     arr \u001b[38;5;241m=\u001b[39m \u001b[38;5;28;43mself\u001b[39;49m\u001b[38;5;241;43m.\u001b[39;49m\u001b[43m_interleave\u001b[49m\u001b[43m(\u001b[49m\u001b[43mdtype\u001b[49m\u001b[38;5;241;43m=\u001b[39;49m\u001b[43mdtype\u001b[49m\u001b[43m,\u001b[49m\u001b[43m \u001b[49m\u001b[43mna_value\u001b[49m\u001b[38;5;241;43m=\u001b[39;49m\u001b[43mna_value\u001b[49m\u001b[43m)\u001b[49m\n\u001b[1;32m   1695\u001b[0m     \u001b[38;5;66;03m# The underlying data was copied within _interleave, so no need\u001b[39;00m\n\u001b[1;32m   1696\u001b[0m     \u001b[38;5;66;03m# to further copy if copy=True or setting na_value\u001b[39;00m\n\u001b[1;32m   1698\u001b[0m \u001b[38;5;28;01mif\u001b[39;00m na_value \u001b[38;5;129;01mis\u001b[39;00m lib\u001b[38;5;241m.\u001b[39mno_default:\n",
      "File \u001b[0;32m~/Developer/PUC/Data Science/venv/lib/python3.11/site-packages/pandas/core/internals/managers.py:1753\u001b[0m, in \u001b[0;36mBlockManager._interleave\u001b[0;34m(self, dtype, na_value)\u001b[0m\n\u001b[1;32m   1751\u001b[0m     \u001b[38;5;28;01melse\u001b[39;00m:\n\u001b[1;32m   1752\u001b[0m         arr \u001b[38;5;241m=\u001b[39m blk\u001b[38;5;241m.\u001b[39mget_values(dtype)\n\u001b[0;32m-> 1753\u001b[0m     \u001b[43mresult\u001b[49m\u001b[43m[\u001b[49m\u001b[43mrl\u001b[49m\u001b[38;5;241;43m.\u001b[39;49m\u001b[43mindexer\u001b[49m\u001b[43m]\u001b[49m \u001b[38;5;241m=\u001b[39m arr\n\u001b[1;32m   1754\u001b[0m     itemmask[rl\u001b[38;5;241m.\u001b[39mindexer] \u001b[38;5;241m=\u001b[39m \u001b[38;5;241m1\u001b[39m\n\u001b[1;32m   1756\u001b[0m \u001b[38;5;28;01mif\u001b[39;00m \u001b[38;5;129;01mnot\u001b[39;00m itemmask\u001b[38;5;241m.\u001b[39mall():\n",
      "\u001b[0;31mValueError\u001b[0m: could not convert string to float: 'win'"
     ]
    }
   ],
   "source": [
    "numerical_df = df[[\n",
    "        'player_rating',\n",
    "        'opponent_rating',\n",
    "        'opening_eval',\n",
    "        'midgame_eval',\n",
    "        'result'\n",
    "        ]]\n",
    "\n",
    "numerical_df.corr()"
   ]
  },
  {
   "cell_type": "code",
   "execution_count": null,
   "metadata": {},
   "outputs": [],
   "source": [
    "\n",
    "# Create a DataFrame with categorical columns of interest\n",
    "data = df[['time_class', 'eco', 'player_pieces', 'win_method', 'player_won', 'opening_eval', 'midgame_eval']]\n",
    "\n",
    "# Convert categorical variables to a one-hot encoded format\n",
    "data_encoded = pd.get_dummies(data, columns=['time_class', 'eco', 'player_pieces', 'win_method', 'player_won', 'opening_eval', 'midgame_eval'])\n",
    "\n",
    "# Perform Apriori to find frequent itemsets\n",
    "frequent_itemsets = apriori(data_encoded, min_support=0.06, use_colnames=True)\n",
    "\n",
    "frequent_itemsets.head()"
   ]
  },
  {
   "cell_type": "code",
   "execution_count": null,
   "metadata": {},
   "outputs": [],
   "source": [
    "# Generate association rules with a minimum confidence threshold\n",
    "rules = association_rules(frequent_itemsets, metric=\"confidence\", min_threshold=0.5)\n",
    "\n",
    "rules_sorted = rules.sort_values(by=\"confidence\", ascending=False)\n",
    "\n",
    "rules_sorted.head()"
   ]
  },
  {
   "cell_type": "markdown",
   "metadata": {},
   "source": [
    "A regra com a maior confiança, \"Se time_class_blitz e win_method_checkmated são utilizados, então player_won_True\", apresenta uma confiança de 71%. Isso significa que, aproximadamente 71% das vezes em que o jogador utiliza time_class_blitz e vence por checkmate, ele efetivamente ganha a partida. O lift de 1.40 indica que essa combinação de eventos ocorre em uma probabilidade 40% maior do que se esses fatores ocorressem isoladamente."
   ]
  },
  {
   "cell_type": "code",
   "execution_count": null,
   "metadata": {},
   "outputs": [],
   "source": [
    "#regras com confiança superiore a 55%\n",
    "\n",
    "rules_55 = rules[rules['confidence'] > 0.55]\n",
    "rules_55 = rules_55[rules_55['support'] > 0.12]\n",
    "\n",
    "# rules_55 = rules_55[rules_55['consequents'].apply(lambda x: 'player_won_True' in x)]\n",
    "\n",
    "rules_55_sorted = rules_55.sort_values(by='confidence', ascending=False)\n",
    "\n",
    "rules_55_sorted"
   ]
  },
  {
   "cell_type": "code",
   "execution_count": null,
   "metadata": {},
   "outputs": [],
   "source": [
    "# Scatter plot using support (x), confidence (y), and lift (color scale)\n",
    "\n",
    "plt.figure(figsize=(10,6))\n",
    "scatter = plt.scatter(rules_55['support'], rules_55['confidence'], c=rules_55['lift'], cmap='viridis', s=100, edgecolor='k', alpha=0.7)\n",
    "plt.title('Grafico regras de associação com confiança acima de 55%', fontsize=15)\n",
    "plt.xlabel('Suporte', fontsize=12)\n",
    "plt.ylabel('Confiança', fontsize=12)\n",
    "colorbar = plt.colorbar(scatter)\n",
    "colorbar.set_label('Elevação', fontsize=12)\n",
    "plt.show()"
   ]
  },
  {
   "cell_type": "code",
   "execution_count": null,
   "metadata": {},
   "outputs": [],
   "source": [
    "#rules that have player_won_True as a consequence\n",
    "\n",
    "rules_player_won_True = association_rules(frequent_itemsets, metric=\"confidence\", min_threshold=0.50)\n",
    "\n",
    "player_won_True_rules = rules_player_won_True[rules_player_won_True['consequents'].apply(lambda x: 'player_won_True' in x)]\n",
    "\n",
    "player_won_True_rules_sorted = player_won_True_rules.sort_values(by='confidence', ascending=False)\n",
    "\n",
    "player_won_True_rules_sorted.head()"
   ]
  },
  {
   "cell_type": "code",
   "execution_count": null,
   "metadata": {},
   "outputs": [],
   "source": [
    "plt.figure(figsize=(10, 6))\n",
    "scatter = plt.scatter( player_won_True_rules_sorted['support'], player_won_True_rules_sorted['confidence'], c=player_won_True_rules_sorted['lift'], cmap='viridis', s=100, edgecolor='k', alpha=0.7)\n",
    "plt.title('Regras de associação jogador ganha', fontsize=15)\n",
    "plt.xlabel('Suporte', fontsize=12)\n",
    "plt.ylabel('Confiança', fontsize=12)\n",
    "colorbar = plt.colorbar(scatter)\n",
    "colorbar.set_label('Elevação', fontsize=12)\n",
    "plt.show()"
   ]
  },
  {
   "cell_type": "code",
   "execution_count": null,
   "metadata": {},
   "outputs": [],
   "source": [
    "player_won_True_rules_sorted.plot(kind='bar', x='antecedents', y='confidence', figsize=(10,6), color='skyblue')\n",
    "plt.title(\"Confidence of player_won_True\")\n",
    "plt.xlabel(\"Antecedents\")\n",
    "plt.ylabel(\"Confidence\")\n",
    "plt.xticks(rotation=90)\n",
    "plt.show()"
   ]
  },
  {
   "cell_type": "code",
   "execution_count": null,
   "metadata": {},
   "outputs": [],
   "source": [
    "#rules that have player_won_False as a consequence\n",
    "\n",
    "rules_player_won_False = association_rules(frequent_itemsets, metric=\"confidence\", min_threshold=0.50)\n",
    "\n",
    "player_won_False_rules = rules_player_won_False[rules_player_won_False['consequents'].apply(lambda x: 'player_won_False' in x)]\n",
    "\n",
    "player_won_False_rules_sorted = player_won_False_rules.sort_values(by='confidence', ascending=False)\n",
    "\n",
    "player_won_False_rules_sorted.head()"
   ]
  },
  {
   "cell_type": "code",
   "execution_count": null,
   "metadata": {},
   "outputs": [],
   "source": [
    "plt.figure(figsize=(10, 6))\n",
    "scatter = plt.scatter( player_won_False_rules_sorted['support'], player_won_False_rules_sorted['confidence'], c=player_won_False_rules_sorted['lift'], cmap='viridis', s=100, edgecolor='k', alpha=0.7)\n",
    "plt.title('Regras de associação jogador perde', fontsize=15)\n",
    "plt.xlabel('Suporte', fontsize=12)\n",
    "plt.ylabel('Confiança', fontsize=12)\n",
    "colorbar = plt.colorbar(scatter)\n",
    "colorbar.set_label('Elevação', fontsize=12)\n",
    "plt.show()"
   ]
  },
  {
   "cell_type": "code",
   "execution_count": null,
   "metadata": {},
   "outputs": [],
   "source": [
    "player_won_False_rules_sorted.plot(kind='bar', x='antecedents', y='confidence', figsize=(10,6), color='skyblue')\n",
    "plt.title(\"Confidence of player_won_False\")\n",
    "plt.xlabel(\"Antecedents\")\n",
    "plt.ylabel(\"Confidence\")\n",
    "plt.xticks(rotation=90)\n",
    "plt.show()"
   ]
  }
 ],
 "metadata": {
  "kernelspec": {
   "display_name": "venv",
   "language": "python",
   "name": "python3"
  },
  "language_info": {
   "codemirror_mode": {
    "name": "ipython",
    "version": 3
   },
   "file_extension": ".py",
   "mimetype": "text/x-python",
   "name": "python",
   "nbconvert_exporter": "python",
   "pygments_lexer": "ipython3",
   "version": "3.11.7"
  }
 },
 "nbformat": 4,
 "nbformat_minor": 2
}
